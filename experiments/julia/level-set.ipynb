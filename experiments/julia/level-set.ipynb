{
 "cells": [
  {
   "cell_type": "code",
   "execution_count": 1,
   "metadata": {},
   "outputs": [
    {
     "name": "stderr",
     "output_type": "stream",
     "text": [
      "\u001b[32m\u001b[1m  Activating\u001b[22m\u001b[39m project at `~/Git/KLLS.jl`\n",
      "\u001b[92m\u001b[1mPrecompiling\u001b[22m\u001b[39m project...\n",
      "   6278.9 ms\u001b[32m  ✓ \u001b[39mKLLS\n",
      "  1 dependency successfully precompiled in 10 seconds. 273 already precompiled.\n"
     ]
    }
   ],
   "source": [
    "import Pkg; Pkg.activate(\"../..\"); Pkg.instantiate()\n",
    "using Revise\n",
    "using KLLS, LinearAlgebra, Random, DataFrames"
   ]
  },
  {
   "cell_type": "code",
   "execution_count": 2,
   "metadata": {},
   "outputs": [
    {
     "data": {
      "text/plain": [
       "\n",
       "Products with A and A':     94940\n",
       "Time elapsed (sec)    :       3.6\n",
       "||Ax-b||₂             :   8.5e-02\n",
       "Optimality            :   2.4e-06\n"
      ]
     },
     "metadata": {},
     "output_type": "display_data"
    }
   ],
   "source": [
    "Random.seed!(1124)\n",
    "tol = 2e-5\n",
    "λ = 1e-2\n",
    "m, n = 200, 400\n",
    "kl = KLLS.randKLmodel(m, n) \n",
    "A, b = kl.A, kl.b\n",
    "regularize!(kl, λ)\n",
    "ss = KLLS.SSModel(kl)\n",
    "rtol = tol\n",
    "atol = tol\n",
    "ssSoln = solve!(ss, SequentialSolve(), logging=0, atol=atol, rtol=rtol, zverbose=false)"
   ]
  },
  {
   "cell_type": "code",
   "execution_count": 3,
   "metadata": {},
   "outputs": [
    {
     "data": {
      "text/plain": [
       "40.56481127913631"
      ]
     },
     "metadata": {},
     "output_type": "display_data"
    }
   ],
   "source": [
    "ss.kl.scale"
   ]
  },
  {
   "cell_type": "code",
   "execution_count": 4,
   "metadata": {},
   "outputs": [
    {
     "data": {
      "text/plain": [
       "\n",
       "Optimality conditions satisfied\n",
       "Products with A and A':      1912\n",
       "Time elapsed (sec)    :       0.0\n",
       "||Ax-b||₂             :   8.5e-02\n",
       "Optimality            :   2.2e-05\n"
      ]
     },
     "metadata": {},
     "output_type": "display_data"
    }
   ],
   "source": [
    "kl = KLLSModel(ss.kl.A, ss.kl.b, λ=λ)\n",
    "scale!(kl, ss.kl.scale)\n",
    "soln = solve!(kl)"
   ]
  },
  {
   "cell_type": "code",
   "execution_count": 5,
   "metadata": {},
   "outputs": [
    {
     "data": {
      "text/plain": [
       "241.47345621261067"
      ]
     },
     "metadata": {},
     "output_type": "display_data"
    }
   ],
   "source": [
    "σ = -ssSoln.dual_obj"
   ]
  },
  {
   "cell_type": "code",
   "execution_count": 19,
   "metadata": {},
   "outputs": [
    {
     "data": {
      "text/plain": [
       "\n",
       "Optimality conditions satisfied\n",
       "Products with A and A':     43437\n",
       "Time elapsed (sec)    :       0.7\n",
       "||Ax-b||₂             :   8.4e-02\n",
       "Optimality            :   1.3e-03\n"
      ]
     },
     "metadata": {},
     "output_type": "display_data"
    }
   ],
   "source": [
    "kl = KLLSModel(A, b, λ=λ)\n",
    "# inSoln = solve!(kl, LevelSet(), α=1.5, σ=σ, t=1.0)\n",
    "inSoln = solve!(kl, AdaptiveLevelSet(), α=1.9, t=1.0)"
   ]
  },
  {
   "cell_type": "code",
   "execution_count": 20,
   "metadata": {},
   "outputs": [
    {
     "data": {
      "text/plain": [
       "241.5381066556331"
      ]
     },
     "metadata": {},
     "output_type": "display_data"
    }
   ],
   "source": [
    "-inSoln.dual_obj"
   ]
  },
  {
   "cell_type": "code",
   "execution_count": 21,
   "metadata": {},
   "outputs": [
    {
     "data": {
      "text/plain": [
       "241.47345621261067"
      ]
     },
     "metadata": {},
     "output_type": "display_data"
    }
   ],
   "source": [
    "-ssSoln.dual_obj"
   ]
  },
  {
   "cell_type": "code",
   "execution_count": 22,
   "metadata": {},
   "outputs": [
    {
     "data": {
      "text/plain": [
       "40.62668535021626"
      ]
     },
     "metadata": {},
     "output_type": "display_data"
    }
   ],
   "source": [
    "kl.scale"
   ]
  },
  {
   "cell_type": "code",
   "execution_count": 13,
   "metadata": {},
   "outputs": [],
   "source": []
  }
 ],
 "metadata": {
  "kernelspec": {
   "display_name": "Julia 1.11.1",
   "language": "julia",
   "name": "julia-1.11"
  },
  "language_info": {
   "file_extension": ".jl",
   "mimetype": "application/julia",
   "name": "julia",
   "version": "1.11.1"
  }
 },
 "nbformat": 4,
 "nbformat_minor": 2
}
