{
 "cells": [
  {
   "cell_type": "code",
   "execution_count": 1,
   "metadata": {},
   "outputs": [
    {
     "name": "stderr",
     "output_type": "stream",
     "text": [
      "\u001b[32m\u001b[1m  Activating\u001b[22m\u001b[39m project at `~/Git/KLLS.jl`\n"
     ]
    }
   ],
   "source": [
    "import Pkg; Pkg.activate(\"../..\"); Pkg.instantiate()\n",
    "using Revise\n",
    "using KLLS, LinearAlgebra, Random, DataFrames"
   ]
  },
  {
   "cell_type": "code",
   "execution_count": 13,
   "metadata": {},
   "outputs": [
    {
     "data": {
      "text/plain": [
       "\n",
       "Products with A and A':     48138\n",
       "Time elapsed (sec)    :      10.6\n",
       "||Ax-b||₂             :   6.8e-01\n",
       "Optimality            :   3.5e-06\n"
      ]
     },
     "metadata": {},
     "output_type": "display_data"
    }
   ],
   "source": [
    "Random.seed!(1124)\n",
    "tol = 2e-5\n",
    "λ = 1e-1\n",
    "m, n = 1000, 2000\n",
    "kl = KLLS.randKLmodel(m, n) \n",
    "A, b = kl.A, kl.b\n",
    "regularize!(kl, λ)\n",
    "ss = KLLS.SSModel(kl)\n",
    "rtol = tol\n",
    "atol = tol\n",
    "ssSoln = solve!(ss, SequentialSolve(), logging=0, atol=atol, rtol=rtol, zverbose=false)"
   ]
  },
  {
   "cell_type": "code",
   "execution_count": 14,
   "metadata": {},
   "outputs": [
    {
     "data": {
      "text/plain": [
       "60.05057481553569"
      ]
     },
     "metadata": {},
     "output_type": "display_data"
    }
   ],
   "source": [
    "ss.kl.scale"
   ]
  },
  {
   "cell_type": "code",
   "execution_count": 15,
   "metadata": {},
   "outputs": [
    {
     "data": {
      "text/plain": [
       "541.6858233817538"
      ]
     },
     "metadata": {},
     "output_type": "display_data"
    }
   ],
   "source": [
    "σ = -ssSoln.dual_obj"
   ]
  },
  {
   "cell_type": "code",
   "execution_count": 16,
   "metadata": {},
   "outputs": [
    {
     "data": {
      "text/plain": [
       "\n",
       "Optimality conditions satisfied\n",
       "Products with A and A':     13694\n",
       "Time elapsed (sec)    :       3.0\n",
       "||Ax-b||₂             :   7.1e-01\n",
       "Optimality            :   1.1e-04\n"
      ]
     },
     "metadata": {},
     "output_type": "display_data"
    }
   ],
   "source": [
    "kl = KLLSModel(A, b, λ=λ)\n",
    "inSoln = solve!(kl, LevelSet(), α=1.5, σ=σ, t=1.0)"
   ]
  },
  {
   "cell_type": "code",
   "execution_count": null,
   "metadata": {},
   "outputs": [],
   "source": [
    "-inSoln.dual_obj"
   ]
  },
  {
   "cell_type": "code",
   "execution_count": null,
   "metadata": {},
   "outputs": [],
   "source": [
    "-sSoln.dual_obj"
   ]
  },
  {
   "cell_type": "code",
   "execution_count": null,
   "metadata": {},
   "outputs": [],
   "source": [
    "kl.scale"
   ]
  },
  {
   "cell_type": "code",
   "execution_count": null,
   "metadata": {},
   "outputs": [],
   "source": [
    "kl = KLLSModel(A, b, λ=λ)\n",
    "ss = KLLS.SSModel(kl)\n",
    "selfScaleSoln = solve!(ss, TrunkLS(), logging=0, max_time=240.0)"
   ]
  },
  {
   "cell_type": "code",
   "execution_count": null,
   "metadata": {},
   "outputs": [],
   "source": []
  }
 ],
 "metadata": {
  "kernelspec": {
   "display_name": "Julia 1.11.1",
   "language": "julia",
   "name": "julia-1.11"
  },
  "language_info": {
   "file_extension": ".jl",
   "mimetype": "application/julia",
   "name": "julia",
   "version": "1.11.1"
  }
 },
 "nbformat": 4,
 "nbformat_minor": 2
}
