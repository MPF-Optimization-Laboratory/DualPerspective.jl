{
 "cells": [
  {
   "cell_type": "code",
   "execution_count": 1,
   "metadata": {},
   "outputs": [
    {
     "name": "stderr",
     "output_type": "stream",
     "text": [
      "\u001b[32m\u001b[1m  Activating\u001b[22m\u001b[39m project at `~/Git/KLLS.jl`\n",
      "┌ Warning: The project dependencies or compat requirements have changed since the manifest was last resolved.\n",
      "│ It is recommended to `Pkg.resolve()` or consider `Pkg.update()` if necessary.\n",
      "└ @ Pkg.API /Users/mertkipcak/.julia/juliaup/julia-1.11.1+0.x64.apple.darwin14/share/julia/stdlib/v1.11/Pkg/src/API.jl:1200\n",
      "\u001b[92m\u001b[1mPrecompiling\u001b[22m\u001b[39m project...\n",
      "   6314.3 ms\u001b[32m  ✓ \u001b[39mKLLS\n",
      "  1 dependency successfully precompiled in 9 seconds. 280 already precompiled.\n"
     ]
    }
   ],
   "source": [
    "import Pkg; Pkg.activate(\"../..\"); Pkg.instantiate()\n",
    "using Revise\n",
    "using KLLS, LinearAlgebra, Random, DataFrames"
   ]
  },
  {
   "cell_type": "code",
   "execution_count": 2,
   "metadata": {},
   "outputs": [
    {
     "data": {
      "text/plain": [
       "\n",
       "Products with A and A':     72464\n",
       "Time elapsed (sec)    :     227.9\n",
       "||Ax-b||₂             :   7.1e-01\n",
       "Optimality            :   7.3e-06\n"
      ]
     },
     "metadata": {},
     "output_type": "display_data"
    }
   ],
   "source": [
    "Random.seed!(1124)\n",
    "tol = 2e-5\n",
    "λ = 1e-1\n",
    "m, n = 2000, 4000\n",
    "kl = KLLS.randKLmodel(m, n) \n",
    "A, b = kl.A, kl.b\n",
    "regularize!(kl, λ)\n",
    "ss = KLLS.SSModel(kl)\n",
    "rtol = tol\n",
    "atol = tol\n",
    "ssSoln = solve!(ss, SequentialSolve(), logging=0, atol=atol, rtol=rtol, zverbose=false)"
   ]
  },
  {
   "cell_type": "code",
   "execution_count": 3,
   "metadata": {},
   "outputs": [
    {
     "data": {
      "text/plain": [
       "88.76289932101784"
      ]
     },
     "metadata": {},
     "output_type": "display_data"
    }
   ],
   "source": [
    "ss.kl.scale"
   ]
  },
  {
   "cell_type": "code",
   "execution_count": 4,
   "metadata": {},
   "outputs": [
    {
     "data": {
      "text/plain": [
       "854.6542617409831"
      ]
     },
     "metadata": {},
     "output_type": "display_data"
    }
   ],
   "source": [
    "σ = -ssSoln.dual_obj"
   ]
  },
  {
   "cell_type": "code",
   "execution_count": 5,
   "metadata": {},
   "outputs": [
    {
     "data": {
      "text/plain": [
       "\n",
       "Optimality conditions satisfied\n",
       "Products with A and A':     21081\n",
       "Time elapsed (sec)    :      73.1\n",
       "||Ax-b||₂             :   7.9e-01\n",
       "Optimality            :   1.8e-05\n"
      ]
     },
     "metadata": {},
     "output_type": "display_data"
    }
   ],
   "source": [
    "kl = KLLSModel(A, b, λ=λ)\n",
    "inSoln = solve!(kl, InexactNewton(), α=1.5, σ=σ, t=1.0)"
   ]
  },
  {
   "cell_type": "code",
   "execution_count": 6,
   "metadata": {},
   "outputs": [
    {
     "data": {
      "text/plain": [
       "854.6559885915742"
      ]
     },
     "metadata": {},
     "output_type": "display_data"
    }
   ],
   "source": [
    "-inSoln.dual_obj"
   ]
  },
  {
   "cell_type": "code",
   "execution_count": 7,
   "metadata": {},
   "outputs": [
    {
     "ename": "UndefVarError",
     "evalue": "UndefVarError: `sSoln` not defined in `Main`\nSuggestion: check for spelling errors or missing imports.",
     "output_type": "error",
     "traceback": [
      "UndefVarError: `sSoln` not defined in `Main`\n",
      "Suggestion: check for spelling errors or missing imports.\n",
      "\n",
      "Stacktrace:\n",
      " [1] top-level scope\n",
      "   @ ~/Git/KLLS.jl/experiments/julia/jl_notebook_cell_df34fa98e69747e1a8f8a730347b8e2f_W6sZmlsZQ==.jl:1"
     ]
    }
   ],
   "source": [
    "-sSoln.dual_obj"
   ]
  },
  {
   "cell_type": "code",
   "execution_count": 8,
   "metadata": {},
   "outputs": [
    {
     "data": {
      "text/plain": [
       "80.77523848372563"
      ]
     },
     "metadata": {},
     "output_type": "display_data"
    }
   ],
   "source": [
    "kl.scale"
   ]
  },
  {
   "cell_type": "code",
   "execution_count": 12,
   "metadata": {},
   "outputs": [
    {
     "data": {
      "text/plain": [
       "\n",
       "Products with A and A':     43539\n",
       "Time elapsed (sec)    :     240.1\n",
       "||Ax-b||₂             :   2.6e-01\n",
       "Optimality            :   6.0e+00\n"
      ]
     },
     "metadata": {},
     "output_type": "display_data"
    }
   ],
   "source": [
    "kl = KLLSModel(A, b, λ=λ)\n",
    "ss = KLLS.SSModel(kl)\n",
    "selfScaleSoln = solve!(ss, TrunkLS(), logging=0, max_time=240.0)"
   ]
  },
  {
   "cell_type": "code",
   "execution_count": null,
   "metadata": {},
   "outputs": [],
   "source": []
  }
 ],
 "metadata": {
  "kernelspec": {
   "display_name": "Julia 1.11.1",
   "language": "julia",
   "name": "julia-1.11"
  },
  "language_info": {
   "file_extension": ".jl",
   "mimetype": "application/julia",
   "name": "julia",
   "version": "1.11.1"
  }
 },
 "nbformat": 4,
 "nbformat_minor": 2
}
