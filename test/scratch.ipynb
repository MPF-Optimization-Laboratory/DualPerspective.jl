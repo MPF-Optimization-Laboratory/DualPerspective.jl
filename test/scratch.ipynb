{
 "cells": [
  {
   "cell_type": "code",
   "execution_count": 7,
   "metadata": {},
   "outputs": [
    {
     "name": "stderr",
     "output_type": "stream",
     "text": [
      "\u001b[32m\u001b[1m  Activating\u001b[22m\u001b[39m project at `~/.julia/dev/KLLS`\n"
     ]
    }
   ],
   "source": [
    "import Pkg; Pkg.activate(\"..\"); Pkg.instantiate()\n",
    "using Revise\n",
    "using NLPModels\n",
    "using KLLS\n",
    "using JSOSolvers"
   ]
  },
  {
   "cell_type": "code",
   "execution_count": 5,
   "metadata": {},
   "outputs": [],
   "source": [
    "m, n = 2, 3\n",
    "A = randn(m, n)\n",
    "p = (v=rand(n); v=v/sum(v))\n",
    "b = A*p + 0.1*randn(m)\n",
    "λ = 1e-1\n",
    "data = KLLSData(A, b, λ=λ)\n",
    "nlp = KLLSModel(data);"
   ]
  },
  {
   "cell_type": "code",
   "execution_count": 8,
   "metadata": {},
   "outputs": [
    {
     "name": "stderr",
     "output_type": "stream",
     "text": [
      "┌ Info:   iter      f(x)         π         Δ     ratio   inner      bk         cgstatus  \n",
      "└ @ JSOSolvers /Users/mpf/.julia/packages/JSOSolvers/zfm1c/src/trunk.jl:200\n",
      "┌ Info:      0  -1.1e-16   2.3e-01         -         -       -       -                -\n",
      "└ @ JSOSolvers /Users/mpf/.julia/packages/JSOSolvers/zfm1c/src/trunk.jl:205\n",
      "┌ Info:      1  -1.3e-01   3.4e-01   1.0e+00   1.0e+00       0       0  on trust-region boundary\n",
      "└ @ JSOSolvers /Users/mpf/.julia/packages/JSOSolvers/zfm1c/src/trunk.jl:368\n",
      "┌ Info:      2  -2.3e-01   3.1e-02   1.5e+00   9.8e-01       0       0  solution good enough given atol and rtol\n",
      "└ @ JSOSolvers /Users/mpf/.julia/packages/JSOSolvers/zfm1c/src/trunk.jl:368\n",
      "┌ Info:      3  -2.3e-01   2.3e-04   1.8e+00   1.0e+00       0       0  solution good enough given atol and rtol\n",
      "└ @ JSOSolvers /Users/mpf/.julia/packages/JSOSolvers/zfm1c/src/trunk.jl:368\n",
      "┌ Info:      4  -2.3e-01   6.0e-09   1.8e+00   1.0e+00       0       0  solution good enough given atol and rtol\n",
      "└ @ JSOSolvers /Users/mpf/.julia/packages/JSOSolvers/zfm1c/src/trunk.jl:368\n",
      "┌ Info:      4  -2.3e-01   6.0e-09   1.8e+00\n",
      "└ @ JSOSolvers /Users/mpf/.julia/packages/JSOSolvers/zfm1c/src/trunk.jl:402\n"
     ]
    },
    {
     "data": {
      "text/plain": [
       "\"Execution stats: first-order stationary\""
      ]
     },
     "metadata": {},
     "output_type": "display_data"
    }
   ],
   "source": [
    "stats = trunk(nlp, verbose=1)"
   ]
  },
  {
   "cell_type": "code",
   "execution_count": null,
   "metadata": {},
   "outputs": [],
   "source": []
  }
 ],
 "metadata": {
  "kernelspec": {
   "display_name": "Julia 1.10.2",
   "language": "julia",
   "name": "julia-1.10"
  },
  "language_info": {
   "file_extension": ".jl",
   "mimetype": "application/julia",
   "name": "julia",
   "version": "1.10.2"
  }
 },
 "nbformat": 4,
 "nbformat_minor": 2
}
