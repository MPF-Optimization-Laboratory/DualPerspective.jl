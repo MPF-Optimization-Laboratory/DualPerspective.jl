{
 "cells": [
  {
   "cell_type": "code",
   "execution_count": 6,
   "metadata": {},
   "outputs": [
    {
     "name": "stderr",
     "output_type": "stream",
     "text": [
      "\u001b[32m\u001b[1m  Activating\u001b[22m\u001b[39m project at `~/.julia/dev/KLLS`\n"
     ]
    }
   ],
   "source": [
    "import Pkg; Pkg.activate(\"..\"); Pkg.instantiate()\n",
    "using Revise\n",
    "using NLPModels\n",
    "using KLLS"
   ]
  },
  {
   "cell_type": "code",
   "execution_count": 7,
   "metadata": {},
   "outputs": [
    {
     "name": "stderr",
     "output_type": "stream",
     "text": [
      "┌ Error: Failed to revise /Users/mpf/.julia/dev/KLLS/src/newtoncg.jl\n",
      "│   exception = Revise.ReviseEvalException(\"/Users/mpf/.julia/dev/KLLS/src/newtoncg.jl:3\", ErrorException(\"invalid redefinition of constant KLLS.KLLSData\"), Any[(top-level scope at newtoncg.jl:3, 1)])\n",
      "└ @ Revise /Users/mpf/.julia/packages/Revise/FaTes/src/packagedef.jl:722\n",
      "┌ Warning: The running code does not match the saved version for the following files:\n",
      "│ \n",
      "│   /Users/mpf/.julia/dev/KLLS/src/newtoncg.jl\n",
      "│ \n",
      "│ If the error was due to evaluation order, it can sometimes be resolved by calling `Revise.retry()`.\n",
      "│ Use Revise.errors() to report errors again. Only the first error in each file is shown.\n",
      "│ Your prompt color may be yellow until the errors are resolved.\n",
      "└ @ Revise /Users/mpf/.julia/packages/Revise/FaTes/src/packagedef.jl:832\n"
     ]
    },
    {
     "ename": "MethodError",
     "evalue": "MethodError: no method matching KLLSData(::Matrix{Float64}, ::Vector{Float64}, ::Vector{Float64}; λ::Float64)\n\nClosest candidates are:\n  KLLSData(::Any, ::Any; kwargs...)\n   @ KLLS ~/.julia/dev/KLLS/src/newtoncg.jl:12\n",
     "output_type": "error",
     "traceback": [
      "MethodError: no method matching KLLSData(::Matrix{Float64}, ::Vector{Float64}, ::Vector{Float64}; λ::Float64)\n",
      "\n",
      "Closest candidates are:\n",
      "  KLLSData(::Any, ::Any; kwargs...)\n",
      "   @ KLLS ~/.julia/dev/KLLS/src/newtoncg.jl:12\n",
      "\n",
      "\n",
      "Stacktrace:\n",
      " [1] KLLSData(A::Matrix{Float64}, b::Vector{Float64}; kwargs::@Kwargs{λ::Float64})\n",
      "   @ KLLS ~/.julia/dev/KLLS/src/newtoncg.jl:15\n",
      " [2] top-level scope\n",
      "   @ ~/.julia/dev/KLLS/test/scratch.ipynb:6"
     ]
    }
   ],
   "source": [
    "m, n = 2, 3\n",
    "A = randn(m, n)\n",
    "p = (v=rand(n); v=v/sum(v))\n",
    "b = A*p + 0.1*randn(m)\n",
    "λ = 1e-1\n",
    "data = KLLSData(A, b, λ=λ)"
   ]
  },
  {
   "cell_type": "code",
   "execution_count": 3,
   "metadata": {},
   "outputs": [],
   "source": []
  }
 ],
 "metadata": {
  "kernelspec": {
   "display_name": "Julia 1.10.2",
   "language": "julia",
   "name": "julia-1.10"
  },
  "language_info": {
   "file_extension": ".jl",
   "mimetype": "application/julia",
   "name": "julia",
   "version": "1.10.2"
  }
 },
 "nbformat": 4,
 "nbformat_minor": 2
}
