{
 "cells": [
  {
   "cell_type": "code",
   "execution_count": 2,
   "metadata": {},
   "outputs": [
    {
     "name": "stdout",
     "output_type": "stream",
     "text": [
      "[juliapkg] Found dependencies: /Users/mpf/Documents/projects/Software/KLLS/.venv/lib/python3.12/site-packages/juliapkg/juliapkg.json\n",
      "[juliapkg] Found dependencies: /Users/mpf/Documents/projects/Software/KLLS/.venv/lib/python3.12/site-packages/juliacall/juliapkg.json\n",
      "[juliapkg] Locating Julia ~1.6.1, ~1.7, ~1.8, ~1.9, =1.10.0, ^1.10.3\n",
      "[juliapkg] Using Julia 1.10.3 at /Users/mpf/.julia/juliaup/julia-1.10.3+0.aarch64.apple.darwin14/bin/julia\n",
      "[juliapkg] Using Julia project at /Users/mpf/Documents/projects/Software/KLLS/.venv/julia_env\n",
      "[juliapkg] Installing packages:\n",
      "           julia> import Pkg\n",
      "           julia> Pkg.Registry.update()\n",
      "           julia> Pkg.add([Pkg.PackageSpec(name=\"PythonCall\", uuid=\"6099a3de-0909-46bc-b1f4-468b9a2dfc0d\")])\n",
      "           julia> Pkg.resolve()\n",
      "           julia> Pkg.precompile()\n"
     ]
    },
    {
     "name": "stderr",
     "output_type": "stream",
     "text": [
      "    Updating registry at `~/.julia/registries/General.toml`\n",
      "   Resolving package versions...\n",
      "   Installed UnsafePointers ─ v1.0.0\n",
      "   Installed micromamba_jll ─ v1.5.8+0\n",
      "   Installed Pidfile ──────── v1.3.0\n",
      "   Installed CondaPkg ─────── v0.2.22\n",
      "   Installed PythonCall ───── v0.9.20\n",
      "   Installed MicroMamba ───── v0.1.14\n",
      "    Updating `~/Documents/projects/Software/KLLS/.venv/julia_env/Project.toml`\n",
      "  [6099a3de] + PythonCall v0.9.20\n",
      "    Updating `~/Documents/projects/Software/KLLS/.venv/julia_env/Manifest.toml`\n",
      "  [992eb4ea] + CondaPkg v0.2.22\n",
      "  [9a962f9c] + DataAPI v1.16.0\n",
      "  [e2d170a0] + DataValueInterfaces v1.0.0\n",
      "  [82899510] + IteratorInterfaceExtensions v1.0.0\n",
      "  [692b3bcd] + JLLWrappers v1.5.0\n",
      "  [0f8b85d8] + JSON3 v1.14.0\n",
      "  [1914dd2f] + MacroTools v0.5.13\n",
      "  [0b3b1443] + MicroMamba v0.1.14\n",
      "  [bac558e1] + OrderedCollections v1.6.3\n",
      "  [69de0a69] + Parsers v2.8.1\n",
      "  [fa939f87] + Pidfile v1.3.0\n",
      "  [aea7be01] + PrecompileTools v1.2.1\n",
      "  [21216c6a] + Preferences v1.4.3\n",
      "  [6099a3de] + PythonCall v0.9.20\n",
      "  [ae029012] + Requires v1.3.0\n",
      "  [6c6a2e73] + Scratch v1.2.1\n",
      "  [856f2bd8] + StructTypes v1.10.0\n",
      "  [3783bdb8] + TableTraits v1.0.1\n",
      "  [bd369af6] + Tables v1.11.1\n",
      "  [e17b2a0c] + UnsafePointers v1.0.0\n",
      "  [f8abcde7] + micromamba_jll v1.5.8+0\n",
      "  [0dad84c5] + ArgTools v1.1.1\n",
      "  [56f22d72] + Artifacts\n",
      "  [2a0f44e3] + Base64\n",
      "  [ade2ca70] + Dates\n",
      "  [f43a241f] + Downloads v1.6.0\n",
      "  [7b1f6079] + FileWatching\n",
      "  [b77e0a4c] + InteractiveUtils\n",
      "  [4af54fe1] + LazyArtifacts\n",
      "  [b27032c2] + LibCURL v0.6.4\n",
      "  [76f85450] + LibGit2\n",
      "  [8f399da3] + Libdl\n",
      "  [37e2e46d] + LinearAlgebra\n",
      "  [56ddb016] + Logging\n",
      "  [d6f4376e] + Markdown\n",
      "  [a63ad114] + Mmap\n",
      "  [ca575930] + NetworkOptions v1.2.0\n",
      "  [44cfe95a] + Pkg v1.10.0\n",
      "  [de0858da] + Printf\n",
      "  [3fa0cd96] + REPL\n",
      "  [9a3f8284] + Random\n",
      "  [ea8e919c] + SHA v0.7.0\n",
      "  [9e88b42a] + Serialization\n",
      "  [6462fe0b] + Sockets\n",
      "  [fa267f1f] + TOML v1.0.3\n",
      "  [a4e569a6] + Tar v1.10.0\n",
      "  [8dfed614] + Test\n",
      "  [cf7118a7] + UUIDs\n",
      "  [4ec0a83e] + Unicode\n",
      "  [e66e0078] + CompilerSupportLibraries_jll v1.1.1+0\n",
      "  [deac9b47] + LibCURL_jll v8.4.0+0\n",
      "  [e37daf67] + LibGit2_jll v1.6.4+0\n",
      "  [29816b5a] + LibSSH2_jll v1.11.0+1\n",
      "  [c8ffd9c3] + MbedTLS_jll v2.28.2+1\n",
      "  [14a3606d] + MozillaCACerts_jll v2023.1.10\n",
      "  [4536629a] + OpenBLAS_jll v0.3.23+4\n",
      "  [83775a58] + Zlib_jll v1.2.13+1\n",
      "  [8e850b90] + libblastrampoline_jll v5.8.0+1\n",
      "  [8e850ede] + nghttp2_jll v1.52.0+1\n",
      "  [3f19e933] + p7zip_jll v17.4.0+2\n",
      "Precompiling project...\n",
      "  ✓ UnsafePointers\n",
      "  ✓ Pidfile\n",
      "micromamba_jll Waiting for background task / IO / timer.\n",
      "[pid 30560] waiting for IO to finish:\n",
      " Handle type        uv_handle_t->data\n",
      " timer              0x108b04ab0->0x10eb730a0\n",
      "This means that a package has started a background task or event source that has not finished running. For precompilation to complete successfully, the event source needs to be closed explicitly. See the developer documentation on fixing precompilation hangs for more help.\n",
      "\n",
      "[pid 30560] waiting for IO to finish:\n",
      " Handle type        uv_handle_t->data\n",
      " timer              0x108b04ab0->0x10eb730a0\n",
      "This means that a package has started a background task or event source that has not finished running. For precompilation to complete successfully, the event source needs to be closed explicitly. See the developer documentation on fixing precompilation hangs for more help.\n",
      "  ✓ micromamba_jll\n",
      "  ✓ MicroMamba\n",
      "  ✓ CondaPkg\n",
      "  ✓ PythonCall\n",
      "  6 dependencies successfully precompiled in 37 seconds. 19 already precompiled.\n",
      "  1 dependency had output during precompilation:\n",
      "┌ micromamba_jll\n",
      "│  Downloading artifact: micromamba\n",
      "│  \n",
      "│  [pid 30560] waiting for IO to finish:\n",
      "│   Handle type        uv_handle_t->data\n",
      "│   timer              0x108b04ab0->0x10eb730a0\n",
      "│  This means that a package has started a background task or event source that has not finished running. For precompilation to complete successfully, the event source needs to be closed explicitly. See the developer documentation on fixing precompilation hangs for more help.\n",
      "│  \n",
      "│  [pid 30560] waiting for IO to finish:\n",
      "│   Handle type        uv_handle_t->data\n",
      "│   timer              0x108b04ab0->0x10eb730a0\n",
      "│  This means that a package has started a background task or event source that has not finished running. For precompilation to complete successfully, the event source needs to be closed explicitly. See the developer documentation on fixing precompilation hangs for more help.\n",
      "└  \n",
      "  No Changes to `~/Documents/projects/Software/KLLS/.venv/julia_env/Project.toml`\n",
      "  No Changes to `~/Documents/projects/Software/KLLS/.venv/julia_env/Manifest.toml`\n"
     ]
    },
    {
     "name": "stdout",
     "output_type": "stream",
     "text": [
      "Detected IPython. Loading juliacall extension. See https://juliapy.github.io/PythonCall.jl/stable/compat/#IPython\n"
     ]
    }
   ],
   "source": [
    "import numpy as np\n",
    "from juliacall import Main as jl"
   ]
  },
  {
   "cell_type": "code",
   "execution_count": 4,
   "metadata": {},
   "outputs": [
    {
     "ename": "JuliaError",
     "evalue": "`https://github.com/mpf-Optimization-Laboratory/KLLS.jl` is not a valid package name. Perhaps you meant `https://github.com/mpf-Optimization-Laboratory/KLLS`\nThe argument appears to be a URL or path, perhaps you meant `Pkg.add(url=\"...\")` or `Pkg.add(path=\"...\")`.\nStacktrace:\n  [1] pkgerror(msg::String)\n    @ Pkg.Types ~/.julia/juliaup/julia-1.10.3+0.aarch64.apple.darwin14/share/julia/stdlib/v1.10/Pkg/src/Types.jl:70\n  [2] check_package_name\n    @ ~/.julia/juliaup/julia-1.10.3+0.aarch64.apple.darwin14/share/julia/stdlib/v1.10/Pkg/src/API.jl:133 [inlined]\n  [3] add(ctx::Pkg.Types.Context, pkgs::Vector{Pkg.Types.PackageSpec}; preserve::Pkg.Types.PreserveLevel, platform::Base.BinaryPlatforms.Platform, kwargs::@Kwargs{io::Base.PipeEndpoint})\n    @ Pkg.API ~/.julia/juliaup/julia-1.10.3+0.aarch64.apple.darwin14/share/julia/stdlib/v1.10/Pkg/src/API.jl:235\n  [4] add(pkgs::Vector{Pkg.Types.PackageSpec}; io::Base.PipeEndpoint, kwargs::@Kwargs{})\n    @ Pkg.API ~/.julia/juliaup/julia-1.10.3+0.aarch64.apple.darwin14/share/julia/stdlib/v1.10/Pkg/src/API.jl:159\n  [5] add(pkgs::Vector{Pkg.Types.PackageSpec})\n    @ Pkg.API ~/.julia/juliaup/julia-1.10.3+0.aarch64.apple.darwin14/share/julia/stdlib/v1.10/Pkg/src/API.jl:148\n  [6] add\n    @ ~/.julia/juliaup/julia-1.10.3+0.aarch64.apple.darwin14/share/julia/stdlib/v1.10/Pkg/src/API.jl:147 [inlined]\n  [7] add(pkg::String)\n    @ Pkg.API ~/.julia/juliaup/julia-1.10.3+0.aarch64.apple.darwin14/share/julia/stdlib/v1.10/Pkg/src/API.jl:146\n  [8] top-level scope\n    @ none:1\n  [9] eval\n    @ ./boot.jl:385 [inlined]\n [10] eval\n    @ ./Base.jl:88 [inlined]\n [11] pyjlmodule_seval(self::Module, expr::Py)\n    @ PythonCall.JlWrap ~/.julia/packages/PythonCall/S5MOg/src/JlWrap/module.jl:13\n [12] _pyjl_callmethod(f::Any, self_::Ptr{PythonCall.C.PyObject}, args_::Ptr{PythonCall.C.PyObject}, nargs::Int64)\n    @ PythonCall.JlWrap ~/.julia/packages/PythonCall/S5MOg/src/JlWrap/base.jl:66\n [13] _pyjl_callmethod(o::Ptr{PythonCall.C.PyObject}, args::Ptr{PythonCall.C.PyObject})\n    @ PythonCall.JlWrap.Cjl ~/.julia/packages/PythonCall/S5MOg/src/JlWrap/C.jl:63",
     "output_type": "error",
     "traceback": [
      "\u001b[0;31m---------------------------------------------------------------------------\u001b[0m",
      "\u001b[0;31mJuliaError\u001b[0m                                Traceback (most recent call last)",
      "Cell \u001b[0;32mIn[4], line 1\u001b[0m\n\u001b[0;32m----> 1\u001b[0m \u001b[43mjl\u001b[49m\u001b[38;5;241;43m.\u001b[39;49m\u001b[43mseval\u001b[49m\u001b[43m(\u001b[49m\u001b[38;5;124;43m\"\u001b[39;49m\u001b[38;5;124;43mimport Pkg; Pkg.add(\u001b[39;49m\u001b[38;5;130;43;01m\\\"\u001b[39;49;00m\u001b[38;5;124;43mhttps://github.com/mpf-Optimization-Laboratory/KLLS.jl\u001b[39;49m\u001b[38;5;130;43;01m\\\"\u001b[39;49;00m\u001b[38;5;124;43m)\u001b[39;49m\u001b[38;5;124;43m\"\u001b[39;49m\u001b[43m)\u001b[49m\n",
      "File \u001b[0;32m~/.julia/packages/PythonCall/S5MOg/src/JlWrap/module.jl:25\u001b[0m, in \u001b[0;36mseval\u001b[0;34m(self, expr)\u001b[0m\n\u001b[1;32m     23\u001b[0m         return ValueBase.__dir__(self) + self._jl_callmethod($(pyjl_methodnum(pyjlmodule_dir)))\n\u001b[1;32m     24\u001b[0m     def seval(self, expr):\n\u001b[0;32m---> 25\u001b[0m         return self._jl_callmethod($(pyjl_methodnum(pyjlmodule_seval)), expr)\n\u001b[1;32m     26\u001b[0m \"\"\", @__FILE__(), \"exec\"), jl.__dict__)\n\u001b[1;32m     27\u001b[0m pycopy!(pyjlmoduletype, jl.ModuleValue)\n",
      "\u001b[0;31mJuliaError\u001b[0m: `https://github.com/mpf-Optimization-Laboratory/KLLS.jl` is not a valid package name. Perhaps you meant `https://github.com/mpf-Optimization-Laboratory/KLLS`\nThe argument appears to be a URL or path, perhaps you meant `Pkg.add(url=\"...\")` or `Pkg.add(path=\"...\")`.\nStacktrace:\n  [1] pkgerror(msg::String)\n    @ Pkg.Types ~/.julia/juliaup/julia-1.10.3+0.aarch64.apple.darwin14/share/julia/stdlib/v1.10/Pkg/src/Types.jl:70\n  [2] check_package_name\n    @ ~/.julia/juliaup/julia-1.10.3+0.aarch64.apple.darwin14/share/julia/stdlib/v1.10/Pkg/src/API.jl:133 [inlined]\n  [3] add(ctx::Pkg.Types.Context, pkgs::Vector{Pkg.Types.PackageSpec}; preserve::Pkg.Types.PreserveLevel, platform::Base.BinaryPlatforms.Platform, kwargs::@Kwargs{io::Base.PipeEndpoint})\n    @ Pkg.API ~/.julia/juliaup/julia-1.10.3+0.aarch64.apple.darwin14/share/julia/stdlib/v1.10/Pkg/src/API.jl:235\n  [4] add(pkgs::Vector{Pkg.Types.PackageSpec}; io::Base.PipeEndpoint, kwargs::@Kwargs{})\n    @ Pkg.API ~/.julia/juliaup/julia-1.10.3+0.aarch64.apple.darwin14/share/julia/stdlib/v1.10/Pkg/src/API.jl:159\n  [5] add(pkgs::Vector{Pkg.Types.PackageSpec})\n    @ Pkg.API ~/.julia/juliaup/julia-1.10.3+0.aarch64.apple.darwin14/share/julia/stdlib/v1.10/Pkg/src/API.jl:148\n  [6] add\n    @ ~/.julia/juliaup/julia-1.10.3+0.aarch64.apple.darwin14/share/julia/stdlib/v1.10/Pkg/src/API.jl:147 [inlined]\n  [7] add(pkg::String)\n    @ Pkg.API ~/.julia/juliaup/julia-1.10.3+0.aarch64.apple.darwin14/share/julia/stdlib/v1.10/Pkg/src/API.jl:146\n  [8] top-level scope\n    @ none:1\n  [9] eval\n    @ ./boot.jl:385 [inlined]\n [10] eval\n    @ ./Base.jl:88 [inlined]\n [11] pyjlmodule_seval(self::Module, expr::Py)\n    @ PythonCall.JlWrap ~/.julia/packages/PythonCall/S5MOg/src/JlWrap/module.jl:13\n [12] _pyjl_callmethod(f::Any, self_::Ptr{PythonCall.C.PyObject}, args_::Ptr{PythonCall.C.PyObject}, nargs::Int64)\n    @ PythonCall.JlWrap ~/.julia/packages/PythonCall/S5MOg/src/JlWrap/base.jl:66\n [13] _pyjl_callmethod(o::Ptr{PythonCall.C.PyObject}, args::Ptr{PythonCall.C.PyObject})\n    @ PythonCall.JlWrap.Cjl ~/.julia/packages/PythonCall/S5MOg/src/JlWrap/C.jl:63"
     ]
    }
   ],
   "source": [
    "jl.seval(\"import Pkg; Pkg.add(url=\\\"https://github.com/mpf-Optimization-Laboratory/KLLS.jl\\\")\")"
   ]
  },
  {
   "cell_type": "code",
   "execution_count": null,
   "metadata": {},
   "outputs": [],
   "source": []
  }
 ],
 "metadata": {
  "kernelspec": {
   "display_name": ".venv",
   "language": "python",
   "name": "python3"
  },
  "language_info": {
   "codemirror_mode": {
    "name": "ipython",
    "version": 3
   },
   "file_extension": ".py",
   "mimetype": "text/x-python",
   "name": "python",
   "nbconvert_exporter": "python",
   "pygments_lexer": "ipython3",
   "version": "3.12.3"
  }
 },
 "nbformat": 4,
 "nbformat_minor": 2
}
