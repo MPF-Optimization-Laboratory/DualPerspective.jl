{
 "cells": [
  {
   "cell_type": "code",
   "execution_count": 1,
   "id": "671049b7",
   "metadata": {},
   "outputs": [],
   "source": [
    "import IJulia\n",
    "\n",
    "# The julia kernel has built in support for Revise.jl, so this is the \n",
    "# recommended approach for long-running sessions:\n",
    "# https://github.com/JuliaLang/IJulia.jl/blob/9b10fa9b879574bbf720f5285029e07758e50a5e/src/kernel.jl#L46-L51\n",
    "\n",
    "# Users should enable revise within .julia/config/startup_ijulia.jl:\n",
    "# https://timholy.github.io/Revise.jl/stable/config/#Using-Revise-automatically-within-Jupyter/IJulia-1\n",
    "\n",
    "# clear console history\n",
    "IJulia.clear_history()\n",
    "\n",
    "fig_width = 7\n",
    "fig_height = 5\n",
    "fig_format = :retina\n",
    "fig_dpi = 96\n",
    "\n",
    "# no retina format type, use svg for high quality type/marks\n",
    "if fig_format == :retina\n",
    "  fig_format = :svg\n",
    "elseif fig_format == :pdf\n",
    "  fig_dpi = 96\n",
    "  # Enable PDF support for IJulia\n",
    "  IJulia.register_mime(MIME(\"application/pdf\"))\n",
    "end\n",
    "\n",
    "# convert inches to pixels\n",
    "fig_width = fig_width * fig_dpi\n",
    "fig_height = fig_height * fig_dpi\n",
    "\n",
    "# Intialize Plots w/ default fig width/height\n",
    "try\n",
    "  import Plots\n",
    "\n",
    "  # Plots.jl doesn't support PDF output for versions < 1.28.1\n",
    "  # so use png (if the DPI remains the default of 300 then set to 96)\n",
    "  if (Plots._current_plots_version < v\"1.28.1\") & (fig_format == :pdf)\n",
    "    Plots.gr(size=(fig_width, fig_height), fmt = :png, dpi = fig_dpi)\n",
    "  else\n",
    "    Plots.gr(size=(fig_width, fig_height), fmt = fig_format, dpi = fig_dpi)\n",
    "  end\n",
    "catch e\n",
    "  # @warn \"Plots init\" exception=(e, catch_backtrace())\n",
    "end\n",
    "\n",
    "# Initialize CairoMakie with default fig width/height\n",
    "try\n",
    "  import CairoMakie\n",
    "\n",
    "  # CairoMakie's display() in PDF format opens an interactive window\n",
    "  # instead of saving to the ipynb file, so we don't do that.\n",
    "  # https://github.com/quarto-dev/quarto-cli/issues/7548\n",
    "  if fig_format == :pdf\n",
    "    CairoMakie.activate!(type = \"png\")\n",
    "  else\n",
    "    CairoMakie.activate!(type = string(fig_format))\n",
    "  end\n",
    "  CairoMakie.update_theme!(resolution=(fig_width, fig_height))\n",
    "catch e\n",
    "    # @warn \"CairoMakie init\" exception=(e, catch_backtrace())\n",
    "end\n",
    "  \n",
    "# Set run_path if specified\n",
    "try\n",
    "  run_path = raw\"/Users/mpf/.julia/dev/KLLS\"\n",
    "  if !isempty(run_path)\n",
    "    cd(run_path)\n",
    "  end\n",
    "catch e\n",
    "  @warn \"Run path init:\" exception=(e, catch_backtrace())\n",
    "end\n",
    "\n",
    "\n",
    "# emulate old Pkg.installed beahvior, see\n",
    "# https://discourse.julialang.org/t/how-to-use-pkg-dependencies-instead-of-pkg-installed/36416/9\n",
    "import Pkg\n",
    "function isinstalled(pkg::String)\n",
    "  any(x -> x.name == pkg && x.is_direct_dep, values(Pkg.dependencies()))\n",
    "end\n",
    "\n",
    "# ojs_define\n",
    "if isinstalled(\"JSON\") && isinstalled(\"DataFrames\")\n",
    "  import JSON, DataFrames\n",
    "  global function ojs_define(; kwargs...)\n",
    "    convert(x) = x\n",
    "    convert(x::DataFrames.AbstractDataFrame) = Tables.rows(x)\n",
    "    content = Dict(\"contents\" => [Dict(\"name\" => k, \"value\" => convert(v)) for (k, v) in kwargs])\n",
    "    tag = \"<script type='ojs-define'>$(JSON.json(content))</script>\"\n",
    "    IJulia.display(MIME(\"text/html\"), tag)\n",
    "  end\n",
    "elseif isinstalled(\"JSON\")\n",
    "  import JSON\n",
    "  global function ojs_define(; kwargs...)\n",
    "    content = Dict(\"contents\" => [Dict(\"name\" => k, \"value\" => v) for (k, v) in kwargs])\n",
    "    tag = \"<script type='ojs-define'>$(JSON.json(content))</script>\"\n",
    "    IJulia.display(MIME(\"text/html\"), tag)\n",
    "  end\n",
    "else\n",
    "  global function ojs_define(; kwargs...)\n",
    "    @warn \"JSON package not available. Please install the JSON.jl package to use ojs_define.\"\n",
    "  end\n",
    "end\n",
    "\n",
    "\n",
    "# don't return kernel dependencies (b/c Revise should take care of dependencies)\n",
    "nothing\n"
   ]
  },
  {
   "cell_type": "code",
   "execution_count": 2,
   "id": "a447a3d5",
   "metadata": {},
   "outputs": [],
   "source": [
    "using Plots, KLLS"
   ]
  },
  {
   "cell_type": "code",
   "execution_count": 3,
   "id": "7b5a119b",
   "metadata": {},
   "outputs": [
    {
     "data": {
      "text/plain": [
       "0.01"
      ]
     },
     "execution_count": 3,
     "metadata": {},
     "output_type": "execute_result"
    }
   ],
   "source": [
    "m, n = 2, 3\n",
    "q = fill(1/n, n)\n",
    "A = randn(m, n)\n",
    "b = A*q + 0.1*randn(m)\n",
    "λ = 1e-2"
   ]
  },
  {
   "cell_type": "code",
   "execution_count": 4,
   "id": "34dcc2ae",
   "metadata": {},
   "outputs": [
    {
     "name": "stdout",
     "output_type": "stream",
     "text": [
      "iter:         obj       |grd| line its\n",
      "   0: -1.1102e-16  9.9272e-02        0\n"
     ]
    },
    {
     "name": "stdout",
     "output_type": "stream",
     "text": [
      "   1: -4.6576e-01  2.3210e-03        1\n",
      "   2: -4.6576e-01  1.9096e-06        1\n",
      "   3: -4.6576e-01  1.2883e-12        1\n"
     ]
    },
    {
     "data": {
      "text/plain": [
       "([0.3708080193005086, 0.3007407513400969, 0.32845122935939447], [-5.133184421473803, -8.127665798345955], Tracer([0.09344587566604745, 0.0019590554717121567, 1.6161833377159596e-6, 1.0903500324843662e-12]))"
      ]
     },
     "execution_count": 4,
     "metadata": {},
     "output_type": "execute_result"
    }
   ],
   "source": [
    "p, y, trace = newton_opt(A, b, q, λ)"
   ]
  },
  {
   "cell_type": "code",
   "execution_count": 5,
   "id": "3be7975e",
   "metadata": {},
   "outputs": [
    {
     "data": {
      "image/png": "[encoded data removed]",
      "image/svg+xml": [
       "<?xml version=\"1.0\" encoding=\"utf-8\"?>\n",
       "<svg xmlns=\"http://www.w3.org/2000/svg\" xmlns:xlink=\"http://www.w3.org/1999/xlink\" width=\"672\" height=\"480\" viewBox=\"0 0 2688 1920\">\n",
       "<defs>\n",
       "  <clipPath id=\"clip370\">\n",
       "    <rect x=\"0\" y=\"0\" width=\"2688\" height=\"1920\"/>\n",
       "  </clipPath>\n",
       "</defs>\n",
       "<path clip-path=\"url(#clip370)\" d=\"M0 1920 L2688 1920 L2688 -4.26326e-14 L0 -4.26326e-14  Z\" fill=\"#ffffff\" fill-rule=\"evenodd\" fill-opacity=\"1\"/>\n",
       "<defs>\n",
       "  <clipPath id=\"clip371\">\n",
       "    <rect x=\"537\" y=\"0\" width=\"1883\" height=\"1883\"/>\n",
       "  </clipPath>\n",
       "</defs>\n",
       "<path clip-path=\"url(#clip370)\" d=\"M216.487 1800.78 L2640.76 1800.78 L2640.76 47.2441 L216.487 47.2441  Z\" fill=\"#ffffff\" fill-rule=\"evenodd\" fill-opacity=\"1\"/>\n",
       "<defs>\n",
       "  <clipPath id=\"clip372\">\n",
       "    <rect x=\"216\" y=\"47\" width=\"2425\" height=\"1755\"/>\n",
       "  </clipPath>\n",
       "</defs>\n",
       "<polyline clip-path=\"url(#clip372)\" style=\"stroke:#000000; stroke-linecap:round; stroke-linejoin:round; stroke-width:2; stroke-opacity:0.1; fill:none\" points=\"285.099,1800.78 285.099,47.2441 \"/>\n",
       "<polyline clip-path=\"url(#clip372)\" style=\"stroke:#000000; stroke-linecap:round; stroke-linejoin:round; stroke-width:2; stroke-opacity:0.1; fill:none\" points=\"1047.45,1800.78 1047.45,47.2441 \"/>\n",
       "<polyline clip-path=\"url(#clip372)\" style=\"stroke:#000000; stroke-linecap:round; stroke-linejoin:round; stroke-width:2; stroke-opacity:0.1; fill:none\" points=\"1809.8,1800.78 1809.8,47.2441 \"/>\n",
       "<polyline clip-path=\"url(#clip372)\" style=\"stroke:#000000; stroke-linecap:round; stroke-linejoin:round; stroke-width:2; stroke-opacity:0.1; fill:none\" points=\"2572.14,1800.78 2572.14,47.2441 \"/>\n",
       "<polyline clip-path=\"url(#clip370)\" style=\"stroke:#000000; stroke-linecap:round; stroke-linejoin:round; stroke-width:4; stroke-opacity:1; fill:none\" points=\"216.487,1800.78 2640.76,1800.78 \"/>\n",
       "<polyline clip-path=\"url(#clip370)\" style=\"stroke:#000000; stroke-linecap:round; stroke-linejoin:round; stroke-width:4; stroke-opacity:1; fill:none\" points=\"285.099,1800.78 285.099,1781.88 \"/>\n",
       "<polyline clip-path=\"url(#clip370)\" style=\"stroke:#000000; stroke-linecap:round; stroke-linejoin:round; stroke-width:4; stroke-opacity:1; fill:none\" points=\"1047.45,1800.78 1047.45,1781.88 \"/>\n",
       "<polyline clip-path=\"url(#clip370)\" style=\"stroke:#000000; stroke-linecap:round; stroke-linejoin:round; stroke-width:4; stroke-opacity:1; fill:none\" points=\"1809.8,1800.78 1809.8,1781.88 \"/>\n",
       "<polyline clip-path=\"url(#clip370)\" style=\"stroke:#000000; stroke-linecap:round; stroke-linejoin:round; stroke-width:4; stroke-opacity:1; fill:none\" points=\"2572.14,1800.78 2572.14,1781.88 \"/>\n",
       "<path clip-path=\"url(#clip370)\" d=\"M275.481 1861.55 L283.12 1861.55 L283.12 1835.18 L274.81 1836.85 L274.81 1832.59 L283.073 1830.92 L287.749 1830.92 L287.749 1861.55 L295.388 1861.55 L295.388 1865.48 L275.481 1865.48 L275.481 1861.55 Z\" fill=\"#000000\" fill-rule=\"nonzero\" fill-opacity=\"1\" /><path clip-path=\"url(#clip370)\" d=\"M1042.1 1861.55 L1058.42 1861.55 L1058.42 1865.48 L1036.48 1865.48 L1036.48 1861.55 Q1039.14 1858.79 1043.72 1854.16 Q1048.33 1849.51 1049.51 1848.17 Q1051.75 1845.65 1052.63 1843.91 Q1053.54 1842.15 1053.54 1840.46 Q1053.54 1837.71 1051.59 1835.97 Q1049.67 1834.23 1046.57 1834.23 Q1044.37 1834.23 1041.92 1835 Q1039.48 1835.76 1036.71 1837.31 L1036.71 1832.59 Q1039.53 1831.46 1041.98 1830.88 Q1044.44 1830.3 1046.48 1830.3 Q1051.85 1830.3 1055.04 1832.98 Q1058.23 1835.67 1058.23 1840.16 Q1058.23 1842.29 1057.42 1844.21 Q1056.64 1846.11 1054.53 1848.7 Q1053.95 1849.37 1050.85 1852.59 Q1047.75 1855.78 1042.1 1861.55 Z\" fill=\"#000000\" fill-rule=\"nonzero\" fill-opacity=\"1\" /><path clip-path=\"url(#clip370)\" d=\"M1814.04 1846.85 Q1817.4 1847.57 1819.28 1849.84 Q1821.17 1852.1 1821.17 1855.44 Q1821.17 1860.55 1817.65 1863.35 Q1814.14 1866.15 1807.65 1866.15 Q1805.48 1866.15 1803.16 1865.71 Q1800.87 1865.3 1798.42 1864.44 L1798.42 1859.93 Q1800.36 1861.06 1802.68 1861.64 Q1804.99 1862.22 1807.52 1862.22 Q1811.91 1862.22 1814.21 1860.48 Q1816.52 1858.75 1816.52 1855.44 Q1816.52 1852.38 1814.37 1850.67 Q1812.24 1848.93 1808.42 1848.93 L1804.39 1848.93 L1804.39 1845.09 L1808.6 1845.09 Q1812.05 1845.09 1813.88 1843.72 Q1815.71 1842.34 1815.71 1839.74 Q1815.71 1837.08 1813.81 1835.67 Q1811.94 1834.23 1808.42 1834.23 Q1806.5 1834.23 1804.3 1834.65 Q1802.1 1835.07 1799.46 1835.95 L1799.46 1831.78 Q1802.12 1831.04 1804.44 1830.67 Q1806.78 1830.3 1808.84 1830.3 Q1814.16 1830.3 1817.26 1832.73 Q1820.36 1835.14 1820.36 1839.26 Q1820.36 1842.13 1818.72 1844.12 Q1817.08 1846.09 1814.04 1846.85 Z\" fill=\"#000000\" fill-rule=\"nonzero\" fill-opacity=\"1\" /><path clip-path=\"url(#clip370)\" d=\"M2575.15 1835 L2563.35 1853.45 L2575.15 1853.45 L2575.15 1835 M2573.93 1830.92 L2579.81 1830.92 L2579.81 1853.45 L2584.74 1853.45 L2584.74 1857.34 L2579.81 1857.34 L2579.81 1865.48 L2575.15 1865.48 L2575.15 1857.34 L2559.55 1857.34 L2559.55 1852.82 L2573.93 1830.92 Z\" fill=\"#000000\" fill-rule=\"nonzero\" fill-opacity=\"1\" /><polyline clip-path=\"url(#clip372)\" style=\"stroke:#000000; stroke-linecap:round; stroke-linejoin:round; stroke-width:2; stroke-opacity:0.1; fill:none\" points=\"216.487,1454.21 2640.76,1454.21 \"/>\n",
       "<polyline clip-path=\"url(#clip372)\" style=\"stroke:#000000; stroke-linecap:round; stroke-linejoin:round; stroke-width:2; stroke-opacity:0.1; fill:none\" points=\"216.487,697.66 2640.76,697.66 \"/>\n",
       "<polyline clip-path=\"url(#clip370)\" style=\"stroke:#000000; stroke-linecap:round; stroke-linejoin:round; stroke-width:4; stroke-opacity:1; fill:none\" points=\"216.487,1800.78 216.487,47.2441 \"/>\n",
       "<polyline clip-path=\"url(#clip370)\" style=\"stroke:#000000; stroke-linecap:round; stroke-linejoin:round; stroke-width:4; stroke-opacity:1; fill:none\" points=\"216.487,1454.21 235.385,1454.21 \"/>\n",
       "<polyline clip-path=\"url(#clip370)\" style=\"stroke:#000000; stroke-linecap:round; stroke-linejoin:round; stroke-width:4; stroke-opacity:1; fill:none\" points=\"216.487,697.66 235.385,697.66 \"/>\n",
       "<path clip-path=\"url(#clip370)\" d=\"M50.2234 1474.01 L57.8623 1474.01 L57.8623 1447.64 L49.5521 1449.31 L49.5521 1445.05 L57.816 1443.38 L62.4919 1443.38 L62.4919 1474.01 L70.1307 1474.01 L70.1307 1477.94 L50.2234 1477.94 L50.2234 1474.01 Z\" fill=\"#000000\" fill-rule=\"nonzero\" fill-opacity=\"1\" /><path clip-path=\"url(#clip370)\" d=\"M89.5751 1446.46 Q85.964 1446.46 84.1353 1450.02 Q82.3297 1453.57 82.3297 1460.7 Q82.3297 1467.8 84.1353 1471.37 Q85.964 1474.91 89.5751 1474.91 Q93.2093 1474.91 95.0148 1471.37 Q96.8435 1467.8 96.8435 1460.7 Q96.8435 1453.57 95.0148 1450.02 Q93.2093 1446.46 89.5751 1446.46 M89.5751 1442.76 Q95.3852 1442.76 98.4408 1447.36 Q101.519 1451.95 101.519 1460.7 Q101.519 1469.42 98.4408 1474.03 Q95.3852 1478.61 89.5751 1478.61 Q83.7649 1478.61 80.6862 1474.03 Q77.6307 1469.42 77.6307 1460.7 Q77.6307 1451.95 80.6862 1447.36 Q83.7649 1442.76 89.5751 1442.76 Z\" fill=\"#000000\" fill-rule=\"nonzero\" fill-opacity=\"1\" /><path clip-path=\"url(#clip370)\" d=\"M101.519 1436.86 L125.631 1436.86 L125.631 1440.06 L101.519 1440.06 L101.519 1436.86 Z\" fill=\"#000000\" fill-rule=\"nonzero\" fill-opacity=\"1\" /><path clip-path=\"url(#clip370)\" d=\"M134.489 1447.33 L140.696 1447.33 L140.696 1425.91 L133.944 1427.27 L133.944 1423.81 L140.658 1422.45 L144.458 1422.45 L144.458 1447.33 L150.664 1447.33 L150.664 1450.53 L134.489 1450.53 L134.489 1447.33 Z\" fill=\"#000000\" fill-rule=\"nonzero\" fill-opacity=\"1\" /><path clip-path=\"url(#clip370)\" d=\"M166.463 1424.95 Q163.529 1424.95 162.043 1427.85 Q160.576 1430.73 160.576 1436.52 Q160.576 1442.29 162.043 1445.19 Q163.529 1448.07 166.463 1448.07 Q169.415 1448.07 170.882 1445.19 Q172.368 1442.29 172.368 1436.52 Q172.368 1430.73 170.882 1427.85 Q169.415 1424.95 166.463 1424.95 M166.463 1421.94 Q171.183 1421.94 173.666 1425.69 Q176.167 1429.41 176.167 1436.52 Q176.167 1443.61 173.666 1447.35 Q171.183 1451.08 166.463 1451.08 Q161.742 1451.08 159.24 1447.35 Q156.758 1443.61 156.758 1436.52 Q156.758 1429.41 159.24 1425.69 Q161.742 1421.94 166.463 1421.94 Z\" fill=\"#000000\" fill-rule=\"nonzero\" fill-opacity=\"1\" /><path clip-path=\"url(#clip370)\" d=\"M75.5387 717.453 L83.1775 717.453 L83.1775 691.087 L74.8674 692.754 L74.8674 688.495 L83.1312 686.828 L87.8071 686.828 L87.8071 717.453 L95.446 717.453 L95.446 721.388 L75.5387 721.388 L75.5387 717.453 Z\" fill=\"#000000\" fill-rule=\"nonzero\" fill-opacity=\"1\" /><path clip-path=\"url(#clip370)\" d=\"M114.89 689.907 Q111.279 689.907 109.451 693.472 Q107.645 697.013 107.645 704.143 Q107.645 711.249 109.451 714.814 Q111.279 718.356 114.89 718.356 Q118.525 718.356 120.33 714.814 Q122.159 711.249 122.159 704.143 Q122.159 697.013 120.33 693.472 Q118.525 689.907 114.89 689.907 M114.89 686.203 Q120.7 686.203 123.756 690.81 Q126.835 695.393 126.835 704.143 Q126.835 712.87 123.756 717.476 Q120.7 722.059 114.89 722.059 Q109.08 722.059 106.001 717.476 Q102.946 712.87 102.946 704.143 Q102.946 695.393 106.001 690.81 Q109.08 686.203 114.89 686.203 Z\" fill=\"#000000\" fill-rule=\"nonzero\" fill-opacity=\"1\" /><path clip-path=\"url(#clip370)\" d=\"M126.835 680.304 L150.946 680.304 L150.946 683.502 L126.835 683.502 L126.835 680.304 Z\" fill=\"#000000\" fill-rule=\"nonzero\" fill-opacity=\"1\" /><path clip-path=\"url(#clip370)\" d=\"M159.184 665.898 L174.099 665.898 L174.099 669.095 L162.663 669.095 L162.663 675.979 Q163.491 675.697 164.319 675.565 Q165.146 675.414 165.974 675.414 Q170.676 675.414 173.422 677.991 Q176.167 680.568 176.167 684.969 Q176.167 689.501 173.346 692.022 Q170.525 694.523 165.391 694.523 Q163.623 694.523 161.78 694.222 Q159.955 693.921 157.999 693.319 L157.999 689.501 Q159.692 690.423 161.497 690.874 Q163.303 691.326 165.315 691.326 Q168.569 691.326 170.469 689.614 Q172.368 687.903 172.368 684.969 Q172.368 682.035 170.469 680.323 Q168.569 678.612 165.315 678.612 Q163.792 678.612 162.269 678.95 Q160.764 679.289 159.184 680.004 L159.184 665.898 Z\" fill=\"#000000\" fill-rule=\"nonzero\" fill-opacity=\"1\" /><polyline clip-path=\"url(#clip372)\" style=\"stroke:#009af9; stroke-linecap:round; stroke-linejoin:round; stroke-width:4; stroke-opacity:1; fill:none\" points=\"285.099,96.8724 1047.45,350.849 1809.8,817.424 2572.14,1751.15 \"/>\n",
       "<path clip-path=\"url(#clip370)\" d=\"M1974.88 209.375 L2559.95 209.375 L2559.95 105.695 L1974.88 105.695  Z\" fill=\"#ffffff\" fill-rule=\"evenodd\" fill-opacity=\"1\"/>\n",
       "<polyline clip-path=\"url(#clip370)\" style=\"stroke:#000000; stroke-linecap:round; stroke-linejoin:round; stroke-width:4; stroke-opacity:1; fill:none\" points=\"1974.88,209.375 2559.95,209.375 2559.95,105.695 1974.88,105.695 1974.88,209.375 \"/>\n",
       "<polyline clip-path=\"url(#clip370)\" style=\"stroke:#009af9; stroke-linecap:round; stroke-linejoin:round; stroke-width:4; stroke-opacity:1; fill:none\" points=\"2001.82,157.535 2163.44,157.535 \"/>\n",
       "<path clip-path=\"url(#clip370)\" d=\"M2195.05 144.098 L2195.05 157.084 L2200.93 157.084 Q2204.19 157.084 2205.98 155.394 Q2207.76 153.704 2207.76 150.579 Q2207.76 147.477 2205.98 145.788 Q2204.19 144.098 2200.93 144.098 L2195.05 144.098 M2190.37 140.255 L2200.93 140.255 Q2206.74 140.255 2209.7 142.894 Q2212.69 145.51 2212.69 150.579 Q2212.69 155.695 2209.7 158.311 Q2206.74 160.926 2200.93 160.926 L2195.05 160.926 L2195.05 174.815 L2190.37 174.815 L2190.37 140.255 Z\" fill=\"#000000\" fill-rule=\"nonzero\" fill-opacity=\"1\" /><path clip-path=\"url(#clip370)\" d=\"M2232.97 152.871 Q2232.25 152.454 2231.39 152.269 Q2230.56 152.061 2229.54 152.061 Q2225.93 152.061 2223.98 154.422 Q2222.06 156.76 2222.06 161.158 L2222.06 174.815 L2217.78 174.815 L2217.78 148.889 L2222.06 148.889 L2222.06 152.917 Q2223.41 150.556 2225.56 149.422 Q2227.71 148.264 2230.79 148.264 Q2231.23 148.264 2231.76 148.334 Q2232.29 148.38 2232.94 148.496 L2232.97 152.871 Z\" fill=\"#000000\" fill-rule=\"nonzero\" fill-opacity=\"1\" /><path clip-path=\"url(#clip370)\" d=\"M2237.43 148.889 L2241.69 148.889 L2241.69 174.815 L2237.43 174.815 L2237.43 148.889 M2237.43 138.797 L2241.69 138.797 L2241.69 144.19 L2237.43 144.19 L2237.43 138.797 Z\" fill=\"#000000\" fill-rule=\"nonzero\" fill-opacity=\"1\" /><path clip-path=\"url(#clip370)\" d=\"M2270.79 153.866 Q2272.39 150.996 2274.61 149.63 Q2276.83 148.264 2279.84 148.264 Q2283.89 148.264 2286.09 151.112 Q2288.29 153.936 2288.29 159.167 L2288.29 174.815 L2284.01 174.815 L2284.01 159.306 Q2284.01 155.579 2282.69 153.774 Q2281.37 151.968 2278.66 151.968 Q2275.35 151.968 2273.43 154.167 Q2271.51 156.366 2271.51 160.163 L2271.51 174.815 L2267.23 174.815 L2267.23 159.306 Q2267.23 155.556 2265.91 153.774 Q2264.59 151.968 2261.83 151.968 Q2258.57 151.968 2256.65 154.19 Q2254.73 156.389 2254.73 160.163 L2254.73 174.815 L2250.44 174.815 L2250.44 148.889 L2254.73 148.889 L2254.73 152.917 Q2256.18 150.533 2258.22 149.399 Q2260.26 148.264 2263.06 148.264 Q2265.88 148.264 2267.85 149.7 Q2269.84 151.135 2270.79 153.866 Z\" fill=\"#000000\" fill-rule=\"nonzero\" fill-opacity=\"1\" /><path clip-path=\"url(#clip370)\" d=\"M2308.57 161.783 Q2303.41 161.783 2301.41 162.963 Q2299.42 164.144 2299.42 166.991 Q2299.42 169.26 2300.91 170.602 Q2302.41 171.922 2304.98 171.922 Q2308.52 171.922 2310.65 169.422 Q2312.8 166.899 2312.8 162.732 L2312.8 161.783 L2308.57 161.783 M2317.06 160.024 L2317.06 174.815 L2312.8 174.815 L2312.8 170.88 Q2311.35 173.241 2309.17 174.375 Q2306.99 175.487 2303.85 175.487 Q2299.86 175.487 2297.5 173.264 Q2295.16 171.019 2295.16 167.269 Q2295.16 162.894 2298.08 160.672 Q2301.02 158.45 2306.83 158.45 L2312.8 158.45 L2312.8 158.033 Q2312.8 155.093 2310.86 153.496 Q2308.94 151.876 2305.44 151.876 Q2303.22 151.876 2301.11 152.408 Q2299.01 152.94 2297.06 154.005 L2297.06 150.07 Q2299.4 149.167 2301.6 148.727 Q2303.8 148.264 2305.88 148.264 Q2311.51 148.264 2314.28 151.181 Q2317.06 154.098 2317.06 160.024 Z\" fill=\"#000000\" fill-rule=\"nonzero\" fill-opacity=\"1\" /><path clip-path=\"url(#clip370)\" d=\"M2325.84 138.797 L2330.1 138.797 L2330.1 174.815 L2325.84 174.815 L2325.84 138.797 Z\" fill=\"#000000\" fill-rule=\"nonzero\" fill-opacity=\"1\" /><path clip-path=\"url(#clip370)\" d=\"M2369.1 152.871 Q2368.38 152.454 2367.53 152.269 Q2366.69 152.061 2365.67 152.061 Q2362.06 152.061 2360.12 154.422 Q2358.2 156.76 2358.2 161.158 L2358.2 174.815 L2353.91 174.815 L2353.91 148.889 L2358.2 148.889 L2358.2 152.917 Q2359.54 150.556 2361.69 149.422 Q2363.84 148.264 2366.92 148.264 Q2367.36 148.264 2367.9 148.334 Q2368.43 148.38 2369.08 148.496 L2369.1 152.871 Z\" fill=\"#000000\" fill-rule=\"nonzero\" fill-opacity=\"1\" /><path clip-path=\"url(#clip370)\" d=\"M2394.7 160.788 L2394.7 162.871 L2375.12 162.871 Q2375.4 167.269 2377.76 169.584 Q2380.14 171.875 2384.38 171.875 Q2386.83 171.875 2389.12 171.274 Q2391.44 170.672 2393.71 169.468 L2393.71 173.496 Q2391.41 174.468 2389.01 174.977 Q2386.6 175.487 2384.12 175.487 Q2377.92 175.487 2374.28 171.875 Q2370.67 168.264 2370.67 162.107 Q2370.67 155.741 2374.1 152.014 Q2377.55 148.264 2383.38 148.264 Q2388.61 148.264 2391.65 151.644 Q2394.7 155.001 2394.7 160.788 M2390.44 159.538 Q2390.4 156.042 2388.47 153.959 Q2386.58 151.876 2383.43 151.876 Q2379.86 151.876 2377.71 153.889 Q2375.58 155.903 2375.26 159.561 L2390.44 159.538 Z\" fill=\"#000000\" fill-rule=\"nonzero\" fill-opacity=\"1\" /><path clip-path=\"url(#clip370)\" d=\"M2418.22 149.653 L2418.22 153.681 Q2416.41 152.755 2414.47 152.292 Q2412.53 151.829 2410.44 151.829 Q2407.27 151.829 2405.67 152.801 Q2404.1 153.774 2404.1 155.718 Q2404.1 157.2 2405.23 158.056 Q2406.37 158.889 2409.79 159.653 L2411.25 159.977 Q2415.79 160.95 2417.69 162.732 Q2419.61 164.491 2419.61 167.663 Q2419.61 171.274 2416.74 173.38 Q2413.89 175.487 2408.89 175.487 Q2406.81 175.487 2404.54 175.07 Q2402.29 174.676 2399.79 173.866 L2399.79 169.468 Q2402.15 170.695 2404.45 171.32 Q2406.74 171.922 2408.98 171.922 Q2411.99 171.922 2413.61 170.903 Q2415.23 169.862 2415.23 167.987 Q2415.23 166.25 2414.05 165.325 Q2412.9 164.399 2408.94 163.542 L2407.46 163.195 Q2403.5 162.362 2401.74 160.649 Q2399.98 158.913 2399.98 155.903 Q2399.98 152.246 2402.57 150.255 Q2405.16 148.264 2409.93 148.264 Q2412.29 148.264 2414.38 148.612 Q2416.46 148.959 2418.22 149.653 Z\" fill=\"#000000\" fill-rule=\"nonzero\" fill-opacity=\"1\" /><path clip-path=\"url(#clip370)\" d=\"M2426.39 148.889 L2430.65 148.889 L2430.65 174.815 L2426.39 174.815 L2426.39 148.889 M2426.39 138.797 L2430.65 138.797 L2430.65 144.19 L2426.39 144.19 L2426.39 138.797 Z\" fill=\"#000000\" fill-rule=\"nonzero\" fill-opacity=\"1\" /><path clip-path=\"url(#clip370)\" d=\"M2456.62 152.825 L2456.62 138.797 L2460.88 138.797 L2460.88 174.815 L2456.62 174.815 L2456.62 170.926 Q2455.28 173.241 2453.22 174.375 Q2451.18 175.487 2448.31 175.487 Q2443.61 175.487 2440.65 171.737 Q2437.71 167.987 2437.71 161.876 Q2437.71 155.764 2440.65 152.014 Q2443.61 148.264 2448.31 148.264 Q2451.18 148.264 2453.22 149.399 Q2455.28 150.51 2456.62 152.825 M2442.11 161.876 Q2442.11 166.575 2444.03 169.26 Q2445.97 171.922 2449.35 171.922 Q2452.73 171.922 2454.68 169.26 Q2456.62 166.575 2456.62 161.876 Q2456.62 157.176 2454.68 154.514 Q2452.73 151.829 2449.35 151.829 Q2445.97 151.829 2444.03 154.514 Q2442.11 157.176 2442.11 161.876 Z\" fill=\"#000000\" fill-rule=\"nonzero\" fill-opacity=\"1\" /><path clip-path=\"url(#clip370)\" d=\"M2469.21 164.584 L2469.21 148.889 L2473.47 148.889 L2473.47 164.422 Q2473.47 168.102 2474.91 169.954 Q2476.34 171.783 2479.21 171.783 Q2482.66 171.783 2484.65 169.584 Q2486.67 167.385 2486.67 163.588 L2486.67 148.889 L2490.93 148.889 L2490.93 174.815 L2486.67 174.815 L2486.67 170.834 Q2485.12 173.195 2483.06 174.352 Q2481.02 175.487 2478.31 175.487 Q2473.84 175.487 2471.53 172.709 Q2469.21 169.931 2469.21 164.584 M2479.93 148.264 L2479.93 148.264 Z\" fill=\"#000000\" fill-rule=\"nonzero\" fill-opacity=\"1\" /><path clip-path=\"url(#clip370)\" d=\"M2511.48 161.783 Q2506.32 161.783 2504.33 162.963 Q2502.34 164.144 2502.34 166.991 Q2502.34 169.26 2503.82 170.602 Q2505.33 171.922 2507.9 171.922 Q2511.44 171.922 2513.57 169.422 Q2515.72 166.899 2515.72 162.732 L2515.72 161.783 L2511.48 161.783 M2519.98 160.024 L2519.98 174.815 L2515.72 174.815 L2515.72 170.88 Q2514.26 173.241 2512.08 174.375 Q2509.91 175.487 2506.76 175.487 Q2502.78 175.487 2500.42 173.264 Q2498.08 171.019 2498.08 167.269 Q2498.08 162.894 2501 160.672 Q2503.94 158.45 2509.75 158.45 L2515.72 158.45 L2515.72 158.033 Q2515.72 155.093 2513.77 153.496 Q2511.85 151.876 2508.36 151.876 Q2506.14 151.876 2504.03 152.408 Q2501.92 152.94 2499.98 154.005 L2499.98 150.07 Q2502.32 149.167 2504.52 148.727 Q2506.71 148.264 2508.8 148.264 Q2514.42 148.264 2517.2 151.181 Q2519.98 154.098 2519.98 160.024 Z\" fill=\"#000000\" fill-rule=\"nonzero\" fill-opacity=\"1\" /><path clip-path=\"url(#clip370)\" d=\"M2528.75 138.797 L2533.01 138.797 L2533.01 174.815 L2528.75 174.815 L2528.75 138.797 Z\" fill=\"#000000\" fill-rule=\"nonzero\" fill-opacity=\"1\" /></svg>\n"
      ],
      "text/html": [
       "<?xml version=\"1.0\" encoding=\"utf-8\"?>\n",
       "<svg xmlns=\"http://www.w3.org/2000/svg\" xmlns:xlink=\"http://www.w3.org/1999/xlink\" width=\"672\" height=\"480\" viewBox=\"0 0 2688 1920\">\n",
       "<defs>\n",
       "  <clipPath id=\"clip420\">\n",
       "    <rect x=\"0\" y=\"0\" width=\"2688\" height=\"1920\"/>\n",
       "  </clipPath>\n",
       "</defs>\n",
       "<path clip-path=\"url(#clip420)\" d=\"M0 1920 L2688 1920 L2688 -4.26326e-14 L0 -4.26326e-14  Z\" fill=\"#ffffff\" fill-rule=\"evenodd\" fill-opacity=\"1\"/>\n",
       "<defs>\n",
       "  <clipPath id=\"clip421\">\n",
       "    <rect x=\"537\" y=\"0\" width=\"1883\" height=\"1883\"/>\n",
       "  </clipPath>\n",
       "</defs>\n",
       "<path clip-path=\"url(#clip420)\" d=\"M216.487 1800.78 L2640.76 1800.78 L2640.76 47.2441 L216.487 47.2441  Z\" fill=\"#ffffff\" fill-rule=\"evenodd\" fill-opacity=\"1\"/>\n",
       "<defs>\n",
       "  <clipPath id=\"clip422\">\n",
       "    <rect x=\"216\" y=\"47\" width=\"2425\" height=\"1755\"/>\n",
       "  </clipPath>\n",
       "</defs>\n",
       "<polyline clip-path=\"url(#clip422)\" style=\"stroke:#000000; stroke-linecap:round; stroke-linejoin:round; stroke-width:2; stroke-opacity:0.1; fill:none\" points=\"285.099,1800.78 285.099,47.2441 \"/>\n",
       "<polyline clip-path=\"url(#clip422)\" style=\"stroke:#000000; stroke-linecap:round; stroke-linejoin:round; stroke-width:2; stroke-opacity:0.1; fill:none\" points=\"1047.45,1800.78 1047.45,47.2441 \"/>\n",
       "<polyline clip-path=\"url(#clip422)\" style=\"stroke:#000000; stroke-linecap:round; stroke-linejoin:round; stroke-width:2; stroke-opacity:0.1; fill:none\" points=\"1809.8,1800.78 1809.8,47.2441 \"/>\n",
       "<polyline clip-path=\"url(#clip422)\" style=\"stroke:#000000; stroke-linecap:round; stroke-linejoin:round; stroke-width:2; stroke-opacity:0.1; fill:none\" points=\"2572.14,1800.78 2572.14,47.2441 \"/>\n",
       "<polyline clip-path=\"url(#clip420)\" style=\"stroke:#000000; stroke-linecap:round; stroke-linejoin:round; stroke-width:4; stroke-opacity:1; fill:none\" points=\"216.487,1800.78 2640.76,1800.78 \"/>\n",
       "<polyline clip-path=\"url(#clip420)\" style=\"stroke:#000000; stroke-linecap:round; stroke-linejoin:round; stroke-width:4; stroke-opacity:1; fill:none\" points=\"285.099,1800.78 285.099,1781.88 \"/>\n",
       "<polyline clip-path=\"url(#clip420)\" style=\"stroke:#000000; stroke-linecap:round; stroke-linejoin:round; stroke-width:4; stroke-opacity:1; fill:none\" points=\"1047.45,1800.78 1047.45,1781.88 \"/>\n",
       "<polyline clip-path=\"url(#clip420)\" style=\"stroke:#000000; stroke-linecap:round; stroke-linejoin:round; stroke-width:4; stroke-opacity:1; fill:none\" points=\"1809.8,1800.78 1809.8,1781.88 \"/>\n",
       "<polyline clip-path=\"url(#clip420)\" style=\"stroke:#000000; stroke-linecap:round; stroke-linejoin:round; stroke-width:4; stroke-opacity:1; fill:none\" points=\"2572.14,1800.78 2572.14,1781.88 \"/>\n",
       "<path clip-path=\"url(#clip420)\" d=\"M275.481 1861.55 L283.12 1861.55 L283.12 1835.18 L274.81 1836.85 L274.81 1832.59 L283.073 1830.92 L287.749 1830.92 L287.749 1861.55 L295.388 1861.55 L295.388 1865.48 L275.481 1865.48 L275.481 1861.55 Z\" fill=\"#000000\" fill-rule=\"nonzero\" fill-opacity=\"1\" /><path clip-path=\"url(#clip420)\" d=\"M1042.1 1861.55 L1058.42 1861.55 L1058.42 1865.48 L1036.48 1865.48 L1036.48 1861.55 Q1039.14 1858.79 1043.72 1854.16 Q1048.33 1849.51 1049.51 1848.17 Q1051.75 1845.65 1052.63 1843.91 Q1053.54 1842.15 1053.54 1840.46 Q1053.54 1837.71 1051.59 1835.97 Q1049.67 1834.23 1046.57 1834.23 Q1044.37 1834.23 1041.92 1835 Q1039.48 1835.76 1036.71 1837.31 L1036.71 1832.59 Q1039.53 1831.46 1041.98 1830.88 Q1044.44 1830.3 1046.48 1830.3 Q1051.85 1830.3 1055.04 1832.98 Q1058.23 1835.67 1058.23 1840.16 Q1058.23 1842.29 1057.42 1844.21 Q1056.64 1846.11 1054.53 1848.7 Q1053.95 1849.37 1050.85 1852.59 Q1047.75 1855.78 1042.1 1861.55 Z\" fill=\"#000000\" fill-rule=\"nonzero\" fill-opacity=\"1\" /><path clip-path=\"url(#clip420)\" d=\"M1814.04 1846.85 Q1817.4 1847.57 1819.28 1849.84 Q1821.17 1852.1 1821.17 1855.44 Q1821.17 1860.55 1817.65 1863.35 Q1814.14 1866.15 1807.65 1866.15 Q1805.48 1866.15 1803.16 1865.71 Q1800.87 1865.3 1798.42 1864.44 L1798.42 1859.93 Q1800.36 1861.06 1802.68 1861.64 Q1804.99 1862.22 1807.52 1862.22 Q1811.91 1862.22 1814.21 1860.48 Q1816.52 1858.75 1816.52 1855.44 Q1816.52 1852.38 1814.37 1850.67 Q1812.24 1848.93 1808.42 1848.93 L1804.39 1848.93 L1804.39 1845.09 L1808.6 1845.09 Q1812.05 1845.09 1813.88 1843.72 Q1815.71 1842.34 1815.71 1839.74 Q1815.71 1837.08 1813.81 1835.67 Q1811.94 1834.23 1808.42 1834.23 Q1806.5 1834.23 1804.3 1834.65 Q1802.1 1835.07 1799.46 1835.95 L1799.46 1831.78 Q1802.12 1831.04 1804.44 1830.67 Q1806.78 1830.3 1808.84 1830.3 Q1814.16 1830.3 1817.26 1832.73 Q1820.36 1835.14 1820.36 1839.26 Q1820.36 1842.13 1818.72 1844.12 Q1817.08 1846.09 1814.04 1846.85 Z\" fill=\"#000000\" fill-rule=\"nonzero\" fill-opacity=\"1\" /><path clip-path=\"url(#clip420)\" d=\"M2575.15 1835 L2563.35 1853.45 L2575.15 1853.45 L2575.15 1835 M2573.93 1830.92 L2579.81 1830.92 L2579.81 1853.45 L2584.74 1853.45 L2584.74 1857.34 L2579.81 1857.34 L2579.81 1865.48 L2575.15 1865.48 L2575.15 1857.34 L2559.55 1857.34 L2559.55 1852.82 L2573.93 1830.92 Z\" fill=\"#000000\" fill-rule=\"nonzero\" fill-opacity=\"1\" /><polyline clip-path=\"url(#clip422)\" style=\"stroke:#000000; stroke-linecap:round; stroke-linejoin:round; stroke-width:2; stroke-opacity:0.1; fill:none\" points=\"216.487,1454.21 2640.76,1454.21 \"/>\n",
       "<polyline clip-path=\"url(#clip422)\" style=\"stroke:#000000; stroke-linecap:round; stroke-linejoin:round; stroke-width:2; stroke-opacity:0.1; fill:none\" points=\"216.487,697.66 2640.76,697.66 \"/>\n",
       "<polyline clip-path=\"url(#clip420)\" style=\"stroke:#000000; stroke-linecap:round; stroke-linejoin:round; stroke-width:4; stroke-opacity:1; fill:none\" points=\"216.487,1800.78 216.487,47.2441 \"/>\n",
       "<polyline clip-path=\"url(#clip420)\" style=\"stroke:#000000; stroke-linecap:round; stroke-linejoin:round; stroke-width:4; stroke-opacity:1; fill:none\" points=\"216.487,1454.21 235.385,1454.21 \"/>\n",
       "<polyline clip-path=\"url(#clip420)\" style=\"stroke:#000000; stroke-linecap:round; stroke-linejoin:round; stroke-width:4; stroke-opacity:1; fill:none\" points=\"216.487,697.66 235.385,697.66 \"/>\n",
       "<path clip-path=\"url(#clip420)\" d=\"M50.2234 1474.01 L57.8623 1474.01 L57.8623 1447.64 L49.5521 1449.31 L49.5521 1445.05 L57.816 1443.38 L62.4919 1443.38 L62.4919 1474.01 L70.1307 1474.01 L70.1307 1477.94 L50.2234 1477.94 L50.2234 1474.01 Z\" fill=\"#000000\" fill-rule=\"nonzero\" fill-opacity=\"1\" /><path clip-path=\"url(#clip420)\" d=\"M89.5751 1446.46 Q85.964 1446.46 84.1353 1450.02 Q82.3297 1453.57 82.3297 1460.7 Q82.3297 1467.8 84.1353 1471.37 Q85.964 1474.91 89.5751 1474.91 Q93.2093 1474.91 95.0148 1471.37 Q96.8435 1467.8 96.8435 1460.7 Q96.8435 1453.57 95.0148 1450.02 Q93.2093 1446.46 89.5751 1446.46 M89.5751 1442.76 Q95.3852 1442.76 98.4408 1447.36 Q101.519 1451.95 101.519 1460.7 Q101.519 1469.42 98.4408 1474.03 Q95.3852 1478.61 89.5751 1478.61 Q83.7649 1478.61 80.6862 1474.03 Q77.6307 1469.42 77.6307 1460.7 Q77.6307 1451.95 80.6862 1447.36 Q83.7649 1442.76 89.5751 1442.76 Z\" fill=\"#000000\" fill-rule=\"nonzero\" fill-opacity=\"1\" /><path clip-path=\"url(#clip420)\" d=\"M101.519 1436.86 L125.631 1436.86 L125.631 1440.06 L101.519 1440.06 L101.519 1436.86 Z\" fill=\"#000000\" fill-rule=\"nonzero\" fill-opacity=\"1\" /><path clip-path=\"url(#clip420)\" d=\"M134.489 1447.33 L140.696 1447.33 L140.696 1425.91 L133.944 1427.27 L133.944 1423.81 L140.658 1422.45 L144.458 1422.45 L144.458 1447.33 L150.664 1447.33 L150.664 1450.53 L134.489 1450.53 L134.489 1447.33 Z\" fill=\"#000000\" fill-rule=\"nonzero\" fill-opacity=\"1\" /><path clip-path=\"url(#clip420)\" d=\"M166.463 1424.95 Q163.529 1424.95 162.043 1427.85 Q160.576 1430.73 160.576 1436.52 Q160.576 1442.29 162.043 1445.19 Q163.529 1448.07 166.463 1448.07 Q169.415 1448.07 170.882 1445.19 Q172.368 1442.29 172.368 1436.52 Q172.368 1430.73 170.882 1427.85 Q169.415 1424.95 166.463 1424.95 M166.463 1421.94 Q171.183 1421.94 173.666 1425.69 Q176.167 1429.41 176.167 1436.52 Q176.167 1443.61 173.666 1447.35 Q171.183 1451.08 166.463 1451.08 Q161.742 1451.08 159.24 1447.35 Q156.758 1443.61 156.758 1436.52 Q156.758 1429.41 159.24 1425.69 Q161.742 1421.94 166.463 1421.94 Z\" fill=\"#000000\" fill-rule=\"nonzero\" fill-opacity=\"1\" /><path clip-path=\"url(#clip420)\" d=\"M75.5387 717.453 L83.1775 717.453 L83.1775 691.087 L74.8674 692.754 L74.8674 688.495 L83.1312 686.828 L87.8071 686.828 L87.8071 717.453 L95.446 717.453 L95.446 721.388 L75.5387 721.388 L75.5387 717.453 Z\" fill=\"#000000\" fill-rule=\"nonzero\" fill-opacity=\"1\" /><path clip-path=\"url(#clip420)\" d=\"M114.89 689.907 Q111.279 689.907 109.451 693.472 Q107.645 697.013 107.645 704.143 Q107.645 711.249 109.451 714.814 Q111.279 718.356 114.89 718.356 Q118.525 718.356 120.33 714.814 Q122.159 711.249 122.159 704.143 Q122.159 697.013 120.33 693.472 Q118.525 689.907 114.89 689.907 M114.89 686.203 Q120.7 686.203 123.756 690.81 Q126.835 695.393 126.835 704.143 Q126.835 712.87 123.756 717.476 Q120.7 722.059 114.89 722.059 Q109.08 722.059 106.001 717.476 Q102.946 712.87 102.946 704.143 Q102.946 695.393 106.001 690.81 Q109.08 686.203 114.89 686.203 Z\" fill=\"#000000\" fill-rule=\"nonzero\" fill-opacity=\"1\" /><path clip-path=\"url(#clip420)\" d=\"M126.835 680.304 L150.946 680.304 L150.946 683.502 L126.835 683.502 L126.835 680.304 Z\" fill=\"#000000\" fill-rule=\"nonzero\" fill-opacity=\"1\" /><path clip-path=\"url(#clip420)\" d=\"M159.184 665.898 L174.099 665.898 L174.099 669.095 L162.663 669.095 L162.663 675.979 Q163.491 675.697 164.319 675.565 Q165.146 675.414 165.974 675.414 Q170.676 675.414 173.422 677.991 Q176.167 680.568 176.167 684.969 Q176.167 689.501 173.346 692.022 Q170.525 694.523 165.391 694.523 Q163.623 694.523 161.78 694.222 Q159.955 693.921 157.999 693.319 L157.999 689.501 Q159.692 690.423 161.497 690.874 Q163.303 691.326 165.315 691.326 Q168.569 691.326 170.469 689.614 Q172.368 687.903 172.368 684.969 Q172.368 682.035 170.469 680.323 Q168.569 678.612 165.315 678.612 Q163.792 678.612 162.269 678.95 Q160.764 679.289 159.184 680.004 L159.184 665.898 Z\" fill=\"#000000\" fill-rule=\"nonzero\" fill-opacity=\"1\" /><polyline clip-path=\"url(#clip422)\" style=\"stroke:#009af9; stroke-linecap:round; stroke-linejoin:round; stroke-width:4; stroke-opacity:1; fill:none\" points=\"285.099,96.8724 1047.45,350.849 1809.8,817.424 2572.14,1751.15 \"/>\n",
       "<path clip-path=\"url(#clip420)\" d=\"M1974.88 209.375 L2559.95 209.375 L2559.95 105.695 L1974.88 105.695  Z\" fill=\"#ffffff\" fill-rule=\"evenodd\" fill-opacity=\"1\"/>\n",
       "<polyline clip-path=\"url(#clip420)\" style=\"stroke:#000000; stroke-linecap:round; stroke-linejoin:round; stroke-width:4; stroke-opacity:1; fill:none\" points=\"1974.88,209.375 2559.95,209.375 2559.95,105.695 1974.88,105.695 1974.88,209.375 \"/>\n",
       "<polyline clip-path=\"url(#clip420)\" style=\"stroke:#009af9; stroke-linecap:round; stroke-linejoin:round; stroke-width:4; stroke-opacity:1; fill:none\" points=\"2001.82,157.535 2163.44,157.535 \"/>\n",
       "<path clip-path=\"url(#clip420)\" d=\"M2195.05 144.098 L2195.05 157.084 L2200.93 157.084 Q2204.19 157.084 2205.98 155.394 Q2207.76 153.704 2207.76 150.579 Q2207.76 147.477 2205.98 145.788 Q2204.19 144.098 2200.93 144.098 L2195.05 144.098 M2190.37 140.255 L2200.93 140.255 Q2206.74 140.255 2209.7 142.894 Q2212.69 145.51 2212.69 150.579 Q2212.69 155.695 2209.7 158.311 Q2206.74 160.926 2200.93 160.926 L2195.05 160.926 L2195.05 174.815 L2190.37 174.815 L2190.37 140.255 Z\" fill=\"#000000\" fill-rule=\"nonzero\" fill-opacity=\"1\" /><path clip-path=\"url(#clip420)\" d=\"M2232.97 152.871 Q2232.25 152.454 2231.39 152.269 Q2230.56 152.061 2229.54 152.061 Q2225.93 152.061 2223.98 154.422 Q2222.06 156.76 2222.06 161.158 L2222.06 174.815 L2217.78 174.815 L2217.78 148.889 L2222.06 148.889 L2222.06 152.917 Q2223.41 150.556 2225.56 149.422 Q2227.71 148.264 2230.79 148.264 Q2231.23 148.264 2231.76 148.334 Q2232.29 148.38 2232.94 148.496 L2232.97 152.871 Z\" fill=\"#000000\" fill-rule=\"nonzero\" fill-opacity=\"1\" /><path clip-path=\"url(#clip420)\" d=\"M2237.43 148.889 L2241.69 148.889 L2241.69 174.815 L2237.43 174.815 L2237.43 148.889 M2237.43 138.797 L2241.69 138.797 L2241.69 144.19 L2237.43 144.19 L2237.43 138.797 Z\" fill=\"#000000\" fill-rule=\"nonzero\" fill-opacity=\"1\" /><path clip-path=\"url(#clip420)\" d=\"M2270.79 153.866 Q2272.39 150.996 2274.61 149.63 Q2276.83 148.264 2279.84 148.264 Q2283.89 148.264 2286.09 151.112 Q2288.29 153.936 2288.29 159.167 L2288.29 174.815 L2284.01 174.815 L2284.01 159.306 Q2284.01 155.579 2282.69 153.774 Q2281.37 151.968 2278.66 151.968 Q2275.35 151.968 2273.43 154.167 Q2271.51 156.366 2271.51 160.163 L2271.51 174.815 L2267.23 174.815 L2267.23 159.306 Q2267.23 155.556 2265.91 153.774 Q2264.59 151.968 2261.83 151.968 Q2258.57 151.968 2256.65 154.19 Q2254.73 156.389 2254.73 160.163 L2254.73 174.815 L2250.44 174.815 L2250.44 148.889 L2254.73 148.889 L2254.73 152.917 Q2256.18 150.533 2258.22 149.399 Q2260.26 148.264 2263.06 148.264 Q2265.88 148.264 2267.85 149.7 Q2269.84 151.135 2270.79 153.866 Z\" fill=\"#000000\" fill-rule=\"nonzero\" fill-opacity=\"1\" /><path clip-path=\"url(#clip420)\" d=\"M2308.57 161.783 Q2303.41 161.783 2301.41 162.963 Q2299.42 164.144 2299.42 166.991 Q2299.42 169.26 2300.91 170.602 Q2302.41 171.922 2304.98 171.922 Q2308.52 171.922 2310.65 169.422 Q2312.8 166.899 2312.8 162.732 L2312.8 161.783 L2308.57 161.783 M2317.06 160.024 L2317.06 174.815 L2312.8 174.815 L2312.8 170.88 Q2311.35 173.241 2309.17 174.375 Q2306.99 175.487 2303.85 175.487 Q2299.86 175.487 2297.5 173.264 Q2295.16 171.019 2295.16 167.269 Q2295.16 162.894 2298.08 160.672 Q2301.02 158.45 2306.83 158.45 L2312.8 158.45 L2312.8 158.033 Q2312.8 155.093 2310.86 153.496 Q2308.94 151.876 2305.44 151.876 Q2303.22 151.876 2301.11 152.408 Q2299.01 152.94 2297.06 154.005 L2297.06 150.07 Q2299.4 149.167 2301.6 148.727 Q2303.8 148.264 2305.88 148.264 Q2311.51 148.264 2314.28 151.181 Q2317.06 154.098 2317.06 160.024 Z\" fill=\"#000000\" fill-rule=\"nonzero\" fill-opacity=\"1\" /><path clip-path=\"url(#clip420)\" d=\"M2325.84 138.797 L2330.1 138.797 L2330.1 174.815 L2325.84 174.815 L2325.84 138.797 Z\" fill=\"#000000\" fill-rule=\"nonzero\" fill-opacity=\"1\" /><path clip-path=\"url(#clip420)\" d=\"M2369.1 152.871 Q2368.38 152.454 2367.53 152.269 Q2366.69 152.061 2365.67 152.061 Q2362.06 152.061 2360.12 154.422 Q2358.2 156.76 2358.2 161.158 L2358.2 174.815 L2353.91 174.815 L2353.91 148.889 L2358.2 148.889 L2358.2 152.917 Q2359.54 150.556 2361.69 149.422 Q2363.84 148.264 2366.92 148.264 Q2367.36 148.264 2367.9 148.334 Q2368.43 148.38 2369.08 148.496 L2369.1 152.871 Z\" fill=\"#000000\" fill-rule=\"nonzero\" fill-opacity=\"1\" /><path clip-path=\"url(#clip420)\" d=\"M2394.7 160.788 L2394.7 162.871 L2375.12 162.871 Q2375.4 167.269 2377.76 169.584 Q2380.14 171.875 2384.38 171.875 Q2386.83 171.875 2389.12 171.274 Q2391.44 170.672 2393.71 169.468 L2393.71 173.496 Q2391.41 174.468 2389.01 174.977 Q2386.6 175.487 2384.12 175.487 Q2377.92 175.487 2374.28 171.875 Q2370.67 168.264 2370.67 162.107 Q2370.67 155.741 2374.1 152.014 Q2377.55 148.264 2383.38 148.264 Q2388.61 148.264 2391.65 151.644 Q2394.7 155.001 2394.7 160.788 M2390.44 159.538 Q2390.4 156.042 2388.47 153.959 Q2386.58 151.876 2383.43 151.876 Q2379.86 151.876 2377.71 153.889 Q2375.58 155.903 2375.26 159.561 L2390.44 159.538 Z\" fill=\"#000000\" fill-rule=\"nonzero\" fill-opacity=\"1\" /><path clip-path=\"url(#clip420)\" d=\"M2418.22 149.653 L2418.22 153.681 Q2416.41 152.755 2414.47 152.292 Q2412.53 151.829 2410.44 151.829 Q2407.27 151.829 2405.67 152.801 Q2404.1 153.774 2404.1 155.718 Q2404.1 157.2 2405.23 158.056 Q2406.37 158.889 2409.79 159.653 L2411.25 159.977 Q2415.79 160.95 2417.69 162.732 Q2419.61 164.491 2419.61 167.663 Q2419.61 171.274 2416.74 173.38 Q2413.89 175.487 2408.89 175.487 Q2406.81 175.487 2404.54 175.07 Q2402.29 174.676 2399.79 173.866 L2399.79 169.468 Q2402.15 170.695 2404.45 171.32 Q2406.74 171.922 2408.98 171.922 Q2411.99 171.922 2413.61 170.903 Q2415.23 169.862 2415.23 167.987 Q2415.23 166.25 2414.05 165.325 Q2412.9 164.399 2408.94 163.542 L2407.46 163.195 Q2403.5 162.362 2401.74 160.649 Q2399.98 158.913 2399.98 155.903 Q2399.98 152.246 2402.57 150.255 Q2405.16 148.264 2409.93 148.264 Q2412.29 148.264 2414.38 148.612 Q2416.46 148.959 2418.22 149.653 Z\" fill=\"#000000\" fill-rule=\"nonzero\" fill-opacity=\"1\" /><path clip-path=\"url(#clip420)\" d=\"M2426.39 148.889 L2430.65 148.889 L2430.65 174.815 L2426.39 174.815 L2426.39 148.889 M2426.39 138.797 L2430.65 138.797 L2430.65 144.19 L2426.39 144.19 L2426.39 138.797 Z\" fill=\"#000000\" fill-rule=\"nonzero\" fill-opacity=\"1\" /><path clip-path=\"url(#clip420)\" d=\"M2456.62 152.825 L2456.62 138.797 L2460.88 138.797 L2460.88 174.815 L2456.62 174.815 L2456.62 170.926 Q2455.28 173.241 2453.22 174.375 Q2451.18 175.487 2448.31 175.487 Q2443.61 175.487 2440.65 171.737 Q2437.71 167.987 2437.71 161.876 Q2437.71 155.764 2440.65 152.014 Q2443.61 148.264 2448.31 148.264 Q2451.18 148.264 2453.22 149.399 Q2455.28 150.51 2456.62 152.825 M2442.11 161.876 Q2442.11 166.575 2444.03 169.26 Q2445.97 171.922 2449.35 171.922 Q2452.73 171.922 2454.68 169.26 Q2456.62 166.575 2456.62 161.876 Q2456.62 157.176 2454.68 154.514 Q2452.73 151.829 2449.35 151.829 Q2445.97 151.829 2444.03 154.514 Q2442.11 157.176 2442.11 161.876 Z\" fill=\"#000000\" fill-rule=\"nonzero\" fill-opacity=\"1\" /><path clip-path=\"url(#clip420)\" d=\"M2469.21 164.584 L2469.21 148.889 L2473.47 148.889 L2473.47 164.422 Q2473.47 168.102 2474.91 169.954 Q2476.34 171.783 2479.21 171.783 Q2482.66 171.783 2484.65 169.584 Q2486.67 167.385 2486.67 163.588 L2486.67 148.889 L2490.93 148.889 L2490.93 174.815 L2486.67 174.815 L2486.67 170.834 Q2485.12 173.195 2483.06 174.352 Q2481.02 175.487 2478.31 175.487 Q2473.84 175.487 2471.53 172.709 Q2469.21 169.931 2469.21 164.584 M2479.93 148.264 L2479.93 148.264 Z\" fill=\"#000000\" fill-rule=\"nonzero\" fill-opacity=\"1\" /><path clip-path=\"url(#clip420)\" d=\"M2511.48 161.783 Q2506.32 161.783 2504.33 162.963 Q2502.34 164.144 2502.34 166.991 Q2502.34 169.26 2503.82 170.602 Q2505.33 171.922 2507.9 171.922 Q2511.44 171.922 2513.57 169.422 Q2515.72 166.899 2515.72 162.732 L2515.72 161.783 L2511.48 161.783 M2519.98 160.024 L2519.98 174.815 L2515.72 174.815 L2515.72 170.88 Q2514.26 173.241 2512.08 174.375 Q2509.91 175.487 2506.76 175.487 Q2502.78 175.487 2500.42 173.264 Q2498.08 171.019 2498.08 167.269 Q2498.08 162.894 2501 160.672 Q2503.94 158.45 2509.75 158.45 L2515.72 158.45 L2515.72 158.033 Q2515.72 155.093 2513.77 153.496 Q2511.85 151.876 2508.36 151.876 Q2506.14 151.876 2504.03 152.408 Q2501.92 152.94 2499.98 154.005 L2499.98 150.07 Q2502.32 149.167 2504.52 148.727 Q2506.71 148.264 2508.8 148.264 Q2514.42 148.264 2517.2 151.181 Q2519.98 154.098 2519.98 160.024 Z\" fill=\"#000000\" fill-rule=\"nonzero\" fill-opacity=\"1\" /><path clip-path=\"url(#clip420)\" d=\"M2528.75 138.797 L2533.01 138.797 L2533.01 174.815 L2528.75 174.815 L2528.75 138.797 Z\" fill=\"#000000\" fill-rule=\"nonzero\" fill-opacity=\"1\" /></svg>\n"
      ]
     },
     "execution_count": 5,
     "metadata": {},
     "output_type": "execute_result"
    }
   ],
   "source": [
    "plot(trace.pResid, yscale=:log10, label=\"Primal residual\")"
   ]
  }
 ],
 "metadata": {
  "kernelspec": {
   "display_name": "Julia 1.10.2",
   "language": "julia",
   "name": "julia-1.10"
  },
  "language_info": {
   "file_extension": ".jl",
   "mimetype": "application/julia",
   "name": "julia",
   "version": "1.10.2"
  }
 },
 "nbformat": 4,
 "nbformat_minor": 5
}