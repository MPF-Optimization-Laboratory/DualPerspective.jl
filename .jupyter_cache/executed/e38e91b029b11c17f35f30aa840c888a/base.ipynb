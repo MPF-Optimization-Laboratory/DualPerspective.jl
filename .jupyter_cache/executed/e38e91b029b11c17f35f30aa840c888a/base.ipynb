{
 "cells": [
  {
   "cell_type": "code",
   "execution_count": 1,
   "id": "b329e5b4",
   "metadata": {},
   "outputs": [],
   "source": [
    "import IJulia\n",
    "\n",
    "# The julia kernel has built in support for Revise.jl, so this is the \n",
    "# recommended approach for long-running sessions:\n",
    "# https://github.com/JuliaLang/IJulia.jl/blob/9b10fa9b879574bbf720f5285029e07758e50a5e/src/kernel.jl#L46-L51\n",
    "\n",
    "# Users should enable revise within .julia/config/startup_ijulia.jl:\n",
    "# https://timholy.github.io/Revise.jl/stable/config/#Using-Revise-automatically-within-Jupyter/IJulia-1\n",
    "\n",
    "# clear console history\n",
    "IJulia.clear_history()\n",
    "\n",
    "fig_width = 7\n",
    "fig_height = 5\n",
    "fig_format = :retina\n",
    "fig_dpi = 96\n",
    "\n",
    "# no retina format type, use svg for high quality type/marks\n",
    "if fig_format == :retina\n",
    "  fig_format = :svg\n",
    "elseif fig_format == :pdf\n",
    "  fig_dpi = 96\n",
    "  # Enable PDF support for IJulia\n",
    "  IJulia.register_mime(MIME(\"application/pdf\"))\n",
    "end\n",
    "\n",
    "# convert inches to pixels\n",
    "fig_width = fig_width * fig_dpi\n",
    "fig_height = fig_height * fig_dpi\n",
    "\n",
    "# Intialize Plots w/ default fig width/height\n",
    "try\n",
    "  import Plots\n",
    "\n",
    "  # Plots.jl doesn't support PDF output for versions < 1.28.1\n",
    "  # so use png (if the DPI remains the default of 300 then set to 96)\n",
    "  if (Plots._current_plots_version < v\"1.28.1\") & (fig_format == :pdf)\n",
    "    Plots.gr(size=(fig_width, fig_height), fmt = :png, dpi = fig_dpi)\n",
    "  else\n",
    "    Plots.gr(size=(fig_width, fig_height), fmt = fig_format, dpi = fig_dpi)\n",
    "  end\n",
    "catch e\n",
    "  # @warn \"Plots init\" exception=(e, catch_backtrace())\n",
    "end\n",
    "\n",
    "# Initialize CairoMakie with default fig width/height\n",
    "try\n",
    "  import CairoMakie\n",
    "\n",
    "  # CairoMakie's display() in PDF format opens an interactive window\n",
    "  # instead of saving to the ipynb file, so we don't do that.\n",
    "  # https://github.com/quarto-dev/quarto-cli/issues/7548\n",
    "  if fig_format == :pdf\n",
    "    CairoMakie.activate!(type = \"png\")\n",
    "  else\n",
    "    CairoMakie.activate!(type = string(fig_format))\n",
    "  end\n",
    "  CairoMakie.update_theme!(resolution=(fig_width, fig_height))\n",
    "catch e\n",
    "    # @warn \"CairoMakie init\" exception=(e, catch_backtrace())\n",
    "end\n",
    "  \n",
    "# Set run_path if specified\n",
    "try\n",
    "  run_path = raw\"/Users/mpf/.julia/dev/KLLS\"\n",
    "  if !isempty(run_path)\n",
    "    cd(run_path)\n",
    "  end\n",
    "catch e\n",
    "  @warn \"Run path init:\" exception=(e, catch_backtrace())\n",
    "end\n",
    "\n",
    "\n",
    "# emulate old Pkg.installed beahvior, see\n",
    "# https://discourse.julialang.org/t/how-to-use-pkg-dependencies-instead-of-pkg-installed/36416/9\n",
    "import Pkg\n",
    "function isinstalled(pkg::String)\n",
    "  any(x -> x.name == pkg && x.is_direct_dep, values(Pkg.dependencies()))\n",
    "end\n",
    "\n",
    "# ojs_define\n",
    "if isinstalled(\"JSON\") && isinstalled(\"DataFrames\")\n",
    "  import JSON, DataFrames\n",
    "  global function ojs_define(; kwargs...)\n",
    "    convert(x) = x\n",
    "    convert(x::DataFrames.AbstractDataFrame) = Tables.rows(x)\n",
    "    content = Dict(\"contents\" => [Dict(\"name\" => k, \"value\" => convert(v)) for (k, v) in kwargs])\n",
    "    tag = \"<script type='ojs-define'>$(JSON.json(content))</script>\"\n",
    "    IJulia.display(MIME(\"text/html\"), tag)\n",
    "  end\n",
    "elseif isinstalled(\"JSON\")\n",
    "  import JSON\n",
    "  global function ojs_define(; kwargs...)\n",
    "    content = Dict(\"contents\" => [Dict(\"name\" => k, \"value\" => v) for (k, v) in kwargs])\n",
    "    tag = \"<script type='ojs-define'>$(JSON.json(content))</script>\"\n",
    "    IJulia.display(MIME(\"text/html\"), tag)\n",
    "  end\n",
    "else\n",
    "  global function ojs_define(; kwargs...)\n",
    "    @warn \"JSON package not available. Please install the JSON.jl package to use ojs_define.\"\n",
    "  end\n",
    "end\n",
    "\n",
    "\n",
    "# don't return kernel dependencies (b/c Revise should take care of dependencies)\n",
    "nothing\n"
   ]
  },
  {
   "cell_type": "code",
   "execution_count": 2,
   "id": "f4bda522",
   "metadata": {},
   "outputs": [
    {
     "name": "stderr",
     "output_type": "stream",
     "text": [
      "\u001b[32m\u001b[1mPrecompiling\u001b[22m\u001b[39m KLLS\n"
     ]
    },
    {
     "name": "stderr",
     "output_type": "stream",
     "text": [
      "\u001b[36m\u001b[1m        Info\u001b[22m\u001b[39m Given KLLS was explicitly requested, output will be shown live \u001b[0K\n",
      "\u001b[0K\u001b[33m\u001b[1m┌ \u001b[22m\u001b[39m\u001b[33m\u001b[1mWarning: \u001b[22m\u001b[39mReplacing docs for `KLLS.LogExpFunction :: Tuple{Vector}` in module `KLLS`\n",
      "\u001b[0K\u001b[33m\u001b[1m└ \u001b[22m\u001b[39m\u001b[90m@ Base.Docs docs/Docs.jl:243\u001b[39m\n"
     ]
    },
    {
     "name": "stderr",
     "output_type": "stream",
     "text": [
      "\u001b[32m  ✓ \u001b[39mKLLS\n",
      "  1 dependency successfully precompiled in 1 seconds. 148 already precompiled.\n",
      "  \u001b[33m1\u001b[39m dependency had output during precompilation:\u001b[33m\n",
      "┌ \u001b[39mKLLS\u001b[33m\n",
      "│  \u001b[39m[Output was shown above]\u001b[33m\n",
      "└  \u001b[39m\n"
     ]
    }
   ],
   "source": [
    "using Plots, KLLS, Random"
   ]
  },
  {
   "cell_type": "code",
   "execution_count": 3,
   "id": "e2f46b36",
   "metadata": {},
   "outputs": [
    {
     "data": {
      "text/plain": [
       "0.01"
      ]
     },
     "execution_count": 3,
     "metadata": {},
     "output_type": "execute_result"
    }
   ],
   "source": [
    "Random.seed!(1234)\n",
    "m, n = 200, 300\n",
    "q = fill(1/n, n)\n",
    "A = randn(m, n)\n",
    "b = A*q + 0.1*randn(m)\n",
    "λ = 1e-2"
   ]
  },
  {
   "cell_type": "code",
   "execution_count": 4,
   "id": "d5641f4e",
   "metadata": {},
   "outputs": [
    {
     "name": "stdout",
     "output_type": "stream",
     "text": [
      "iter:         obj       |grd| line its\n",
      "   0: -3.5397e-15  1.3900e+00        0\n"
     ]
    },
    {
     "name": "stdout",
     "output_type": "stream",
     "text": [
      "   1: -2.6795e+00  2.8947e+00        1\n",
      "   2: -7.7034e+00  8.2307e+00        2\n",
      "   3: -1.0797e+01  8.4474e+00        4\n",
      "   4: -1.2758e+01  5.2122e+00        5\n"
     ]
    },
    {
     "name": "stdout",
     "output_type": "stream",
     "text": [
      "   5: -1.2860e+01  1.3412e+01        1\n",
      "   6: -1.7295e+01  6.7487e+00        7\n",
      "   7: -1.7892e+01  5.7937e+00        4\n",
      "   8: -1.8956e+01  1.3129e+00        2\n",
      "   9: -1.9204e+01  5.1984e-01        1\n",
      "  10: -1.9270e+01  7.2606e-02        1\n",
      "  11: -1.9272e+01  8.2058e-03        1\n",
      "  12: -1.9272e+01  7.6512e-04        1\n",
      "  13: -1.9272e+01  1.1550e-05        1\n",
      "  14: -1.9272e+01  2.8837e-09        1\n"
     ]
    }
   ],
   "source": [
    "p, y, trace = newton_opt(A, b, q, λ);"
   ]
  },
  {
   "cell_type": "code",
   "execution_count": 5,
   "id": "5c1f1a5f",
   "metadata": {},
   "outputs": [
    {
     "name": "stderr",
     "output_type": "stream",
     "text": [
      "\u001b[33m\u001b[1m┌ \u001b[22m\u001b[39m\u001b[33m\u001b[1mWarning: \u001b[22m\u001b[39mNo strict ticks found\n",
      "\u001b[33m\u001b[1m└ \u001b[22m\u001b[39m\u001b[90m@ PlotUtils ~/.julia/packages/PlotUtils/8mrSm/src/ticks.jl:194\u001b[39m\n",
      "\u001b[33m\u001b[1m┌ \u001b[22m\u001b[39m\u001b[33m\u001b[1mWarning: \u001b[22m\u001b[39mNo strict ticks found\n",
      "\u001b[33m\u001b[1m└ \u001b[22m\u001b[39m\u001b[90m@ PlotUtils ~/.julia/packages/PlotUtils/8mrSm/src/ticks.jl:194\u001b[39m\n"
     ]
    },
    {
     "data": {
      "image/svg+xml": [
       "<?xml version=\"1.0\" encoding=\"utf-8\"?>\n",
       "<svg xmlns=\"http://www.w3.org/2000/svg\" xmlns:xlink=\"http://www.w3.org/1999/xlink\" width=\"672\" height=\"480\" viewBox=\"0 0 2688 1920\">\n",
       "<defs>\n",
       "  <clipPath id=\"clip760\">\n",
       "    <rect x=\"0\" y=\"0\" width=\"2688\" height=\"1920\"/>\n",
       "  </clipPath>\n",
       "</defs>\n",
       "<path clip-path=\"url(#clip760)\" d=\"M0 1920 L2688 1920 L2688 -4.26326e-14 L0 -4.26326e-14  Z\" fill=\"#ffffff\" fill-rule=\"evenodd\" fill-opacity=\"1\"/>\n",
       "<defs>\n",
       "  <clipPath id=\"clip761\">\n",
       "    <rect x=\"537\" y=\"0\" width=\"1883\" height=\"1883\"/>\n",
       "  </clipPath>\n",
       "</defs>\n",
       "<path clip-path=\"url(#clip760)\" d=\"M89.8721 1734.12 L2640.76 1734.12 L2640.76 47.2441 L89.8721 47.2441  Z\" fill=\"#ffffff\" fill-rule=\"evenodd\" fill-opacity=\"1\"/>\n",
       "<defs>\n",
       "  <clipPath id=\"clip762\">\n",
       "    <rect x=\"89\" y=\"47\" width=\"2552\" height=\"1688\"/>\n",
       "  </clipPath>\n",
       "</defs>\n",
       "<path clip-path=\"url(#clip760)\" d=\"Mnan nan Lnan nan Lnan nan Lnan nan Lnan nan Qnan nan nan nan Qnan nan nan nan Qnan nan nan nan Qnan nan nan nan Qnan nan nan nan Qnan nan nan nan Qnan nan nan nan Qnan nan nan nan Lnan nan Qnan nan nan nan Qnan nan nan nan Qnan nan nan nan Qnan nan nan nan Qnan nan nan nan Qnan nan nan nan Qnan nan nan nan Qnan nan nan nan Z\" fill=\"#000000\" fill-rule=\"nonzero\" fill-opacity=\"1\" /><path clip-path=\"url(#clip760)\" d=\"Mnan nan Lnan nan Lnan nan Lnan nan Mnan nan Lnan nan Lnan nan Lnan nan Lnan nan Lnan nan Lnan nan Lnan nan Lnan nan Lnan nan Lnan nan Lnan nan Z\" fill=\"#000000\" fill-rule=\"nonzero\" fill-opacity=\"1\" /><path clip-path=\"url(#clip760)\" d=\"Mnan nan Qnan nan nan nan Qnan nan nan nan Qnan nan nan nan Qnan nan nan nan Qnan nan nan nan Qnan nan nan nan Qnan nan nan nan Qnan nan nan nan Mnan nan Lnan nan Qnan nan nan nan Qnan nan nan nan Qnan nan nan nan Qnan nan nan nan Qnan nan nan nan Qnan nan nan nan Qnan nan nan nan Qnan nan nan nan Qnan nan nan nan Qnan nan nan nan Qnan nan nan nan Qnan nan nan nan Qnan nan nan nan Qnan nan nan nan Qnan nan nan nan Qnan nan nan nan Z\" fill=\"#000000\" fill-rule=\"nonzero\" fill-opacity=\"1\" /><path clip-path=\"url(#clip760)\" d=\"Mnan nan Qnan nan nan nan Qnan nan nan nan Qnan nan nan nan Qnan nan nan nan Qnan nan nan nan Qnan nan nan nan Qnan nan nan nan Qnan nan nan nan Mnan nan Qnan nan nan nan Qnan nan nan nan Qnan nan nan nan Qnan nan nan nan Qnan nan nan nan Qnan nan nan nan Qnan nan nan nan Qnan nan nan nan Qnan nan nan nan Qnan nan nan nan Qnan nan nan nan Qnan nan nan nan Qnan nan nan nan Qnan nan nan nan Qnan nan nan nan Qnan nan nan nan Mnan nan Qnan nan nan nan Qnan nan nan nan Qnan nan nan nan Qnan nan nan nan Qnan nan nan nan Qnan nan nan nan Qnan nan nan nan Qnan nan nan nan Z\" fill=\"#000000\" fill-rule=\"nonzero\" fill-opacity=\"1\" /><path clip-path=\"url(#clip760)\" d=\"Mnan nan Lnan nan Lnan nan Lnan nan Lnan nan Lnan nan Lnan nan Lnan nan Lnan nan Lnan nan Lnan nan Lnan nan Z\" fill=\"#000000\" fill-rule=\"nonzero\" fill-opacity=\"1\" /><path clip-path=\"url(#clip760)\" d=\"Mnan nan Qnan nan nan nan Qnan nan nan nan Qnan nan nan nan Qnan nan nan nan Qnan nan nan nan Qnan nan nan nan Qnan nan nan nan Qnan nan nan nan Mnan nan Qnan nan nan nan Qnan nan nan nan Qnan nan nan nan Qnan nan nan nan Qnan nan nan nan Qnan nan nan nan Qnan nan nan nan Qnan nan nan nan Z\" fill=\"#000000\" fill-rule=\"nonzero\" fill-opacity=\"1\" /><path clip-path=\"url(#clip760)\" d=\"Mnan nan Lnan nan Lnan nan Lnan nan Lnan nan Lnan nan Lnan nan Lnan nan Lnan nan Lnan nan Lnan nan Lnan nan Z\" fill=\"#000000\" fill-rule=\"nonzero\" fill-opacity=\"1\" /><path clip-path=\"url(#clip760)\" d=\"Mnan nan Lnan nan Lnan nan Lnan nan Lnan nan Qnan nan nan nan Qnan nan nan nan Qnan nan nan nan Qnan nan nan nan Qnan nan nan nan Qnan nan nan nan Qnan nan nan nan Qnan nan nan nan Lnan nan Qnan nan nan nan Qnan nan nan nan Qnan nan nan nan Qnan nan nan nan Qnan nan nan nan Qnan nan nan nan Qnan nan nan nan Qnan nan nan nan Z\" fill=\"#000000\" fill-rule=\"nonzero\" fill-opacity=\"1\" /><path clip-path=\"url(#clip760)\" d=\"Mnan nan Lnan nan Lnan nan Lnan nan Lnan nan Lnan nan Lnan nan Lnan nan Lnan nan Lnan nan Lnan nan Lnan nan Z\" fill=\"#000000\" fill-rule=\"nonzero\" fill-opacity=\"1\" /><path clip-path=\"url(#clip760)\" d=\"Mnan nan Lnan nan Lnan nan Lnan nan Mnan nan Lnan nan Lnan nan Lnan nan Lnan nan Lnan nan Lnan nan Lnan nan Lnan nan Lnan nan Lnan nan Lnan nan Z\" fill=\"#000000\" fill-rule=\"nonzero\" fill-opacity=\"1\" /><path clip-path=\"url(#clip760)\" d=\"Mnan nan Lnan nan Lnan nan Lnan nan Lnan nan Mnan nan Lnan nan Lnan nan Lnan nan Lnan nan Z\" fill=\"#000000\" fill-rule=\"nonzero\" fill-opacity=\"1\" /><path clip-path=\"url(#clip760)\" d=\"Mnan nan Lnan nan Lnan nan Lnan nan Lnan nan Lnan nan Qnan nan nan nan Qnan nan nan nan Lnan nan Lnan nan Lnan nan Qnan nan nan nan Qnan nan nan nan Lnan nan Lnan nan Lnan nan Lnan nan Lnan nan Lnan nan Z\" fill=\"#000000\" fill-rule=\"nonzero\" fill-opacity=\"1\" /><path clip-path=\"url(#clip760)\" d=\"Mnan nan Lnan nan Lnan nan Qnan nan nan nan Qnan nan nan nan Qnan nan nan nan Qnan nan nan nan Lnan nan Qnan nan nan nan Qnan nan nan nan Qnan nan nan nan Qnan nan nan nan Qnan nan nan nan Qnan nan nan nan Qnan nan nan nan Qnan nan nan nan Mnan nan Qnan nan nan nan Qnan nan nan nan Qnan nan nan nan Qnan nan nan nan Lnan nan Z\" fill=\"#000000\" fill-rule=\"nonzero\" fill-opacity=\"1\" /><path clip-path=\"url(#clip760)\" d=\"Mnan nan Qnan nan nan nan Qnan nan nan nan Qnan nan nan nan Qnan nan nan nan Lnan nan Lnan nan Lnan nan Lnan nan Lnan nan Qnan nan nan nan Qnan nan nan nan Qnan nan nan nan Qnan nan nan nan Lnan nan Z\" fill=\"#000000\" fill-rule=\"nonzero\" fill-opacity=\"1\" /><path clip-path=\"url(#clip760)\" d=\"Mnan nan Qnan nan nan nan Qnan nan nan nan Qnan nan nan nan Qnan nan nan nan Qnan nan nan nan Qnan nan nan nan Lnan nan Lnan nan Mnan nan Lnan nan Lnan nan Lnan nan Qnan nan nan nan Qnan nan nan nan Qnan nan nan nan Qnan nan nan nan Qnan nan nan nan Qnan nan nan nan Lnan nan Lnan nan Qnan nan nan nan Qnan nan nan nan Qnan nan nan nan Qnan nan nan nan Lnan nan Qnan nan nan nan Qnan nan nan nan Qnan nan nan nan Qnan nan nan nan Z\" fill=\"#000000\" fill-rule=\"nonzero\" fill-opacity=\"1\" /><path clip-path=\"url(#clip760)\" d=\"Mnan nan Lnan nan Lnan nan Lnan nan Lnan nan Lnan nan Qnan nan nan nan Qnan nan nan nan Lnan nan Lnan nan Lnan nan Qnan nan nan nan Qnan nan nan nan Lnan nan Lnan nan Lnan nan Lnan nan Lnan nan Lnan nan Z\" fill=\"#000000\" fill-rule=\"nonzero\" fill-opacity=\"1\" /><path clip-path=\"url(#clip760)\" d=\"Mnan nan Lnan nan Lnan nan Lnan nan Lnan nan Mnan nan Lnan nan Lnan nan Lnan nan Lnan nan Z\" fill=\"#000000\" fill-rule=\"nonzero\" fill-opacity=\"1\" /><path clip-path=\"url(#clip760)\" d=\"Mnan nan Qnan nan nan nan Qnan nan nan nan Qnan nan nan nan Qnan nan nan nan Qnan nan nan nan Qnan nan nan nan Qnan nan nan nan Qnan nan nan nan Mnan nan Qnan nan nan nan Qnan nan nan nan Qnan nan nan nan Qnan nan nan nan Qnan nan nan nan Qnan nan nan nan Qnan nan nan nan Qnan nan nan nan Z\" fill=\"#000000\" fill-rule=\"nonzero\" fill-opacity=\"1\" /><path clip-path=\"url(#clip760)\" d=\"Mnan nan Lnan nan Lnan nan Lnan nan Qnan nan nan nan Qnan nan nan nan Qnan nan nan nan Qnan nan nan nan Lnan nan Lnan nan Lnan nan Lnan nan Lnan nan Qnan nan nan nan Qnan nan nan nan Qnan nan nan nan Qnan nan nan nan Z\" fill=\"#000000\" fill-rule=\"nonzero\" fill-opacity=\"1\" /><polyline clip-path=\"url(#clip762)\" style=\"stroke:#009af9; stroke-linecap:round; stroke-linejoin:round; stroke-width:12; stroke-opacity:1; fill:none\" points=\"2640.76,-610.691 5191.64,-3148.85 7742.52,-12150 10293.4,-12515.6 12844.3,-7058.28 15395.2,-20890.8 17946.1,-9650.09 20496.9,-8039.18 23047.8,-480.602 25598.7,857.207 28149.6,1611.64 30700.5,1720.27 33251.4,1732.83 35802.2,1734.1 38353.1,1734.12 \"/>\n",
       "<polyline clip-path=\"url(#clip762)\" style=\"stroke:#e26f46; stroke-linecap:round; stroke-linejoin:round; stroke-width:12; stroke-opacity:1; fill:none\" points=\"2640.76,1734.12 5191.64,6254.14 7742.52,14728.7 10293.4,19948 12844.3,23254.8 15395.2,23427.3 17946.1,30908.8 20496.9,31916.2 23047.8,33710.5 25598.7,34129.2 28149.6,34240.2 30700.5,34244.2 33251.4,34244.3 35802.2,34244.3 38353.1,34244.3 \"/>\n",
       "<path clip-path=\"url(#clip760)\" d=\"M1958 258.993 L2555.73 258.993 L2555.73 103.473 L1958 103.473  Z\" fill=\"#ffffff\" fill-rule=\"evenodd\" fill-opacity=\"1\"/>\n",
       "<polyline clip-path=\"url(#clip760)\" style=\"stroke:#000000; stroke-linecap:round; stroke-linejoin:round; stroke-width:4; stroke-opacity:1; fill:none\" points=\"1958,258.993 2555.73,258.993 2555.73,103.473 1958,103.473 1958,258.993 \"/>\n",
       "<polyline clip-path=\"url(#clip760)\" style=\"stroke:#009af9; stroke-linecap:round; stroke-linejoin:round; stroke-width:12; stroke-opacity:1; fill:none\" points=\"1986.34,155.313 2156.4,155.313 \"/>\n",
       "<path clip-path=\"url(#clip760)\" d=\"Mnan nan Lnan nan Lnan nan Qnan nan nan nan Qnan nan nan nan Qnan nan nan nan Qnan nan nan nan Lnan nan Mnan nan Lnan nan Qnan nan nan nan Qnan nan nan nan Qnan nan nan nan Qnan nan nan nan Lnan nan Lnan nan Lnan nan Lnan nan Z\" fill=\"#000000\" fill-rule=\"nonzero\" fill-opacity=\"1\" /><path clip-path=\"url(#clip760)\" d=\"Mnan nan Qnan nan nan nan Qnan nan nan nan Qnan nan nan nan Qnan nan nan nan Lnan nan Lnan nan Lnan nan Lnan nan Lnan nan Qnan nan nan nan Qnan nan nan nan Qnan nan nan nan Qnan nan nan nan Lnan nan Z\" fill=\"#000000\" fill-rule=\"nonzero\" fill-opacity=\"1\" /><path clip-path=\"url(#clip760)\" d=\"Mnan nan Lnan nan Lnan nan Lnan nan Lnan nan Mnan nan Lnan nan Lnan nan Lnan nan Lnan nan Z\" fill=\"#000000\" fill-rule=\"nonzero\" fill-opacity=\"1\" /><path clip-path=\"url(#clip760)\" d=\"Mnan nan Qnan nan nan nan Qnan nan nan nan Qnan nan nan nan Qnan nan nan nan Lnan nan Lnan nan Lnan nan Qnan nan nan nan Qnan nan nan nan Qnan nan nan nan Qnan nan nan nan Lnan nan Lnan nan Lnan nan Qnan nan nan nan Qnan nan nan nan Qnan nan nan nan Qnan nan nan nan Lnan nan Lnan nan Lnan nan Lnan nan Lnan nan Qnan nan nan nan Qnan nan nan nan Qnan nan nan nan Qnan nan nan nan Z\" fill=\"#000000\" fill-rule=\"nonzero\" fill-opacity=\"1\" /><path clip-path=\"url(#clip760)\" d=\"Mnan nan Qnan nan nan nan Qnan nan nan nan Qnan nan nan nan Qnan nan nan nan Qnan nan nan nan Qnan nan nan nan Lnan nan Lnan nan Mnan nan Lnan nan Lnan nan Lnan nan Qnan nan nan nan Qnan nan nan nan Qnan nan nan nan Qnan nan nan nan Qnan nan nan nan Qnan nan nan nan Lnan nan Lnan nan Qnan nan nan nan Qnan nan nan nan Qnan nan nan nan Qnan nan nan nan Lnan nan Qnan nan nan nan Qnan nan nan nan Qnan nan nan nan Qnan nan nan nan Z\" fill=\"#000000\" fill-rule=\"nonzero\" fill-opacity=\"1\" /><path clip-path=\"url(#clip760)\" d=\"Mnan nan Lnan nan Lnan nan Lnan nan Lnan nan Z\" fill=\"#000000\" fill-rule=\"nonzero\" fill-opacity=\"1\" /><path clip-path=\"url(#clip760)\" d=\"Mnan nan Qnan nan nan nan Qnan nan nan nan Qnan nan nan nan Qnan nan nan nan Lnan nan Lnan nan Lnan nan Lnan nan Lnan nan Qnan nan nan nan Qnan nan nan nan Qnan nan nan nan Qnan nan nan nan Lnan nan Z\" fill=\"#000000\" fill-rule=\"nonzero\" fill-opacity=\"1\" /><path clip-path=\"url(#clip760)\" d=\"Mnan nan Lnan nan Lnan nan Qnan nan nan nan Qnan nan nan nan Qnan nan nan nan Qnan nan nan nan Lnan nan Qnan nan nan nan Qnan nan nan nan Qnan nan nan nan Qnan nan nan nan Qnan nan nan nan Qnan nan nan nan Qnan nan nan nan Qnan nan nan nan Mnan nan Qnan nan nan nan Qnan nan nan nan Qnan nan nan nan Qnan nan nan nan Lnan nan Z\" fill=\"#000000\" fill-rule=\"nonzero\" fill-opacity=\"1\" /><path clip-path=\"url(#clip760)\" d=\"Mnan nan Lnan nan Qnan nan nan nan Qnan nan nan nan Qnan nan nan nan Qnan nan nan nan Qnan nan nan nan Qnan nan nan nan Lnan nan Qnan nan nan nan Qnan nan nan nan Qnan nan nan nan Qnan nan nan nan Qnan nan nan nan Qnan nan nan nan Lnan nan Qnan nan nan nan Qnan nan nan nan Qnan nan nan nan Qnan nan nan nan Qnan nan nan nan Qnan nan nan nan Lnan nan Qnan nan nan nan Qnan nan nan nan Qnan nan nan nan Qnan nan nan nan Qnan nan nan nan Qnan nan nan nan Z\" fill=\"#000000\" fill-rule=\"nonzero\" fill-opacity=\"1\" /><path clip-path=\"url(#clip760)\" d=\"Mnan nan Lnan nan Lnan nan Lnan nan Lnan nan Mnan nan Lnan nan Lnan nan Lnan nan Lnan nan Z\" fill=\"#000000\" fill-rule=\"nonzero\" fill-opacity=\"1\" /><path clip-path=\"url(#clip760)\" d=\"Mnan nan Lnan nan Lnan nan Lnan nan Lnan nan Lnan nan Qnan nan nan nan Qnan nan nan nan Qnan nan nan nan Qnan nan nan nan Qnan nan nan nan Qnan nan nan nan Qnan nan nan nan Qnan nan nan nan Mnan nan Qnan nan nan nan Qnan nan nan nan Qnan nan nan nan Qnan nan nan nan Qnan nan nan nan Qnan nan nan nan Qnan nan nan nan Qnan nan nan nan Z\" fill=\"#000000\" fill-rule=\"nonzero\" fill-opacity=\"1\" /><path clip-path=\"url(#clip760)\" d=\"Mnan nan Lnan nan Lnan nan Lnan nan Qnan nan nan nan Qnan nan nan nan Qnan nan nan nan Qnan nan nan nan Lnan nan Lnan nan Lnan nan Lnan nan Lnan nan Qnan nan nan nan Qnan nan nan nan Qnan nan nan nan Qnan nan nan nan Mnan nan Lnan nan Z\" fill=\"#000000\" fill-rule=\"nonzero\" fill-opacity=\"1\" /><path clip-path=\"url(#clip760)\" d=\"Mnan nan Qnan nan nan nan Qnan nan nan nan Qnan nan nan nan Qnan nan nan nan Qnan nan nan nan Qnan nan nan nan Lnan nan Lnan nan Mnan nan Lnan nan Lnan nan Lnan nan Qnan nan nan nan Qnan nan nan nan Qnan nan nan nan Qnan nan nan nan Qnan nan nan nan Qnan nan nan nan Lnan nan Lnan nan Qnan nan nan nan Qnan nan nan nan Qnan nan nan nan Qnan nan nan nan Lnan nan Qnan nan nan nan Qnan nan nan nan Qnan nan nan nan Qnan nan nan nan Z\" fill=\"#000000\" fill-rule=\"nonzero\" fill-opacity=\"1\" /><path clip-path=\"url(#clip760)\" d=\"Mnan nan Lnan nan Lnan nan Lnan nan Lnan nan Z\" fill=\"#000000\" fill-rule=\"nonzero\" fill-opacity=\"1\" /><polyline clip-path=\"url(#clip760)\" style=\"stroke:#e26f46; stroke-linecap:round; stroke-linejoin:round; stroke-width:12; stroke-opacity:1; fill:none\" points=\"1986.34,207.153 2156.4,207.153 \"/>\n",
       "<path clip-path=\"url(#clip760)\" d=\"Mnan nan Lnan nan Lnan nan Qnan nan nan nan Qnan nan nan nan Qnan nan nan nan Qnan nan nan nan Lnan nan Mnan nan Lnan nan Qnan nan nan nan Qnan nan nan nan Qnan nan nan nan Qnan nan nan nan Lnan nan Lnan nan Z\" fill=\"#000000\" fill-rule=\"nonzero\" fill-opacity=\"1\" /><path clip-path=\"url(#clip760)\" d=\"Mnan nan Lnan nan Lnan nan Lnan nan Qnan nan nan nan Qnan nan nan nan Qnan nan nan nan Qnan nan nan nan Lnan nan Lnan nan Lnan nan Lnan nan Lnan nan Qnan nan nan nan Qnan nan nan nan Qnan nan nan nan Qnan nan nan nan Mnan nan Lnan nan Z\" fill=\"#000000\" fill-rule=\"nonzero\" fill-opacity=\"1\" /><path clip-path=\"url(#clip760)\" d=\"Mnan nan Qnan nan nan nan Qnan nan nan nan Qnan nan nan nan Qnan nan nan nan Qnan nan nan nan Qnan nan nan nan Lnan nan Lnan nan Mnan nan Lnan nan Lnan nan Lnan nan Qnan nan nan nan Qnan nan nan nan Qnan nan nan nan Qnan nan nan nan Qnan nan nan nan Qnan nan nan nan Lnan nan Lnan nan Qnan nan nan nan Qnan nan nan nan Qnan nan nan nan Qnan nan nan nan Lnan nan Qnan nan nan nan Qnan nan nan nan Qnan nan nan nan Qnan nan nan nan Z\" fill=\"#000000\" fill-rule=\"nonzero\" fill-opacity=\"1\" /><path clip-path=\"url(#clip760)\" d=\"Mnan nan Lnan nan Lnan nan Lnan nan Lnan nan Z\" fill=\"#000000\" fill-rule=\"nonzero\" fill-opacity=\"1\" /><path clip-path=\"url(#clip760)\" d=\"Mnan nan Qnan nan nan nan Qnan nan nan nan Qnan nan nan nan Qnan nan nan nan Qnan nan nan nan Qnan nan nan nan Qnan nan nan nan Qnan nan nan nan Mnan nan Qnan nan nan nan Qnan nan nan nan Qnan nan nan nan Qnan nan nan nan Qnan nan nan nan Qnan nan nan nan Qnan nan nan nan Qnan nan nan nan Z\" fill=\"#000000\" fill-rule=\"nonzero\" fill-opacity=\"1\" /><path clip-path=\"url(#clip760)\" d=\"Mnan nan Qnan nan nan nan Qnan nan nan nan Qnan nan nan nan Qnan nan nan nan Qnan nan nan nan Qnan nan nan nan Qnan nan nan nan Qnan nan nan nan Mnan nan Qnan nan nan nan Qnan nan nan nan Qnan nan nan nan Qnan nan nan nan Qnan nan nan nan Qnan nan nan nan Qnan nan nan nan Qnan nan nan nan Lnan nan Lnan nan Lnan nan Lnan nan Lnan nan Z\" fill=\"#000000\" fill-rule=\"nonzero\" fill-opacity=\"1\" /><path clip-path=\"url(#clip760)\" d=\"Mnan nan Lnan nan Lnan nan Qnan nan nan nan Qnan nan nan nan Lnan nan Lnan nan Lnan nan Qnan nan nan nan Qnan nan nan nan Lnan nan Mnan nan Lnan nan Lnan nan Lnan nan Lnan nan Z\" fill=\"#000000\" fill-rule=\"nonzero\" fill-opacity=\"1\" /><path clip-path=\"url(#clip760)\" d=\"Mnan nan Lnan nan Lnan nan Qnan nan nan nan Qnan nan nan nan Qnan nan nan nan Qnan nan nan nan Lnan nan Qnan nan nan nan Qnan nan nan nan Qnan nan nan nan Qnan nan nan nan Qnan nan nan nan Qnan nan nan nan Qnan nan nan nan Qnan nan nan nan Mnan nan Qnan nan nan nan Qnan nan nan nan Qnan nan nan nan Qnan nan nan nan Lnan nan Z\" fill=\"#000000\" fill-rule=\"nonzero\" fill-opacity=\"1\" /><path clip-path=\"url(#clip760)\" d=\"Mnan nan Lnan nan Qnan nan nan nan Qnan nan nan nan Qnan nan nan nan Qnan nan nan nan Qnan nan nan nan Qnan nan nan nan Qnan nan nan nan Qnan nan nan nan Lnan nan Qnan nan nan nan Qnan nan nan nan Qnan nan nan nan Qnan nan nan nan Qnan nan nan nan Qnan nan nan nan Qnan nan nan nan Qnan nan nan nan Z\" fill=\"#000000\" fill-rule=\"nonzero\" fill-opacity=\"1\" /><path clip-path=\"url(#clip760)\" d=\"Mnan nan Lnan nan Lnan nan Lnan nan Lnan nan Lnan nan Qnan nan nan nan Qnan nan nan nan Lnan nan Lnan nan Lnan nan Qnan nan nan nan Qnan nan nan nan Lnan nan Lnan nan Lnan nan Lnan nan Lnan nan Lnan nan Z\" fill=\"#000000\" fill-rule=\"nonzero\" fill-opacity=\"1\" /><path clip-path=\"url(#clip760)\" d=\"Mnan nan Lnan nan Lnan nan Lnan nan Lnan nan Mnan nan Lnan nan Lnan nan Lnan nan Lnan nan Z\" fill=\"#000000\" fill-rule=\"nonzero\" fill-opacity=\"1\" /><path clip-path=\"url(#clip760)\" d=\"Mnan nan Lnan nan Lnan nan Lnan nan Lnan nan Lnan nan Lnan nan Lnan nan Z\" fill=\"#000000\" fill-rule=\"nonzero\" fill-opacity=\"1\" /><path clip-path=\"url(#clip760)\" d=\"Mnan nan Lnan nan Lnan nan Qnan nan nan nan Qnan nan nan nan Qnan nan nan nan Qnan nan nan nan Lnan nan Qnan nan nan nan Qnan nan nan nan Qnan nan nan nan Qnan nan nan nan Qnan nan nan nan Qnan nan nan nan Qnan nan nan nan Qnan nan nan nan Mnan nan Qnan nan nan nan Qnan nan nan nan Qnan nan nan nan Qnan nan nan nan Lnan nan Z\" fill=\"#000000\" fill-rule=\"nonzero\" fill-opacity=\"1\" /></svg>\n"
      ]
     },
     "execution_count": 5,
     "metadata": {},
     "output_type": "execute_result"
    },
    {
     "name": "stderr",
     "output_type": "stream",
     "text": [
      "\u001b[33m\u001b[1m┌ \u001b[22m\u001b[39m\u001b[33m\u001b[1mWarning: \u001b[22m\u001b[39mInvalid negative or zero value -3.539703252730681e-15 found at series index 1 for log10 based yscale\n",
      "\u001b[33m\u001b[1m└ \u001b[22m\u001b[39m\u001b[90m@ Plots ~/.julia/packages/Plots/Pe7wF/src/utils.jl:106\u001b[39m\n",
      "\u001b[33m\u001b[1m┌ \u001b[22m\u001b[39m\u001b[33m\u001b[1mWarning: \u001b[22m\u001b[39mNo strict ticks found\n",
      "\u001b[33m\u001b[1m└ \u001b[22m\u001b[39m\u001b[90m@ PlotUtils ~/.julia/packages/PlotUtils/8mrSm/src/ticks.jl:194\u001b[39m\n",
      "\u001b[33m\u001b[1m┌ \u001b[22m\u001b[39m\u001b[33m\u001b[1mWarning: \u001b[22m\u001b[39mNo strict ticks found\n",
      "\u001b[33m\u001b[1m└ \u001b[22m\u001b[39m\u001b[90m@ PlotUtils ~/.julia/packages/PlotUtils/8mrSm/src/ticks.jl:194\u001b[39m\n"
     ]
    }
   ],
   "source": [
    "plot(trace.pResid, yscale=:log10, label=\"Primal residual\", xlabel=\"iteration\", lw=3)\n",
    "plot!(trace.dObj, yscale=:log10, label=\"Dual objective\", lw=3)"
   ]
  }
 ],
 "metadata": {
  "kernelspec": {
   "display_name": "Julia 1.10.2",
   "language": "julia",
   "name": "julia-1.10"
  },
  "language_info": {
   "file_extension": ".jl",
   "mimetype": "application/julia",
   "name": "julia",
   "version": "1.10.2"
  }
 },
 "nbformat": 4,
 "nbformat_minor": 5
}