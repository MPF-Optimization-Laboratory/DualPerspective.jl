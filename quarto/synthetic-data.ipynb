{
  "cells": [
    {
      "cell_type": "raw",
      "metadata": {},
      "source": [
        "---\n",
        "title: \"KL-Regularized Least Squares\"\n",
        "subtitle: \"Physics and synthetic data sets\"\n",
        "authors:\n",
        "  - Nicholas Barnield\n",
        "  - Thomas Chuma\n",
        "  - Tobias Dornheim\n",
        "  - Michael P. Friedlander\n",
        "  - Tim Hoheisel\n",
        " \n",
        "date: last-modified\n",
        "# format: typst\n",
        "format: html\n",
        "execute:\n",
        "  cache: true\n",
        "---"
      ],
      "id": "74f72694"
    },
    {
      "cell_type": "code",
      "metadata": {},
      "source": [
        "#| echo: false\n",
        "#| output: false \n",
        "import Pkg; Pkg.activate(\"..\"); Pkg.instantiate()"
      ],
      "id": "f21df801",
      "execution_count": null,
      "outputs": []
    },
    {
      "cell_type": "code",
      "metadata": {},
      "source": [
        "#| echo: true\n",
        "#| code-fold: true\n",
        "#| code-summary: \"Import packages\" \n",
        "using Revise\n",
        "using KLLS\n",
        "using NPZ\n",
        "using Plots\n",
        "using Printf\n",
        "using UnPack\n",
        "using LinearAlgebra"
      ],
      "id": "1cdfbb44",
      "execution_count": null,
      "outputs": []
    },
    {
      "cell_type": "markdown",
      "metadata": {},
      "source": [
        "## Data sets\n",
        "\n",
        "There are three data sets available:\n",
        "\n",
        "1. `PhysicsData.npz`\n",
        "1. `synthetic_data.npz`\n",
        "1. `Tobias_data.npz`\n",
        "\n",
        "### Questions\n",
        "\n",
        "1.  The `Tobias_data.npz` file doesn't seem to be any different from `synthetic_data.npz`. Are these geniunely different data sets?\n",
        "2. What is the meaning of the `b` vector in `synthetic_data.npz`?\n",
        "3. How do we normalize the data in `synthetic_data.npz`?\n",
        "\n",
        "#### Rho-meson\n"
      ],
      "id": "b914fa87"
    },
    {
      "cell_type": "code",
      "metadata": {},
      "source": [
        "#| output: true\n",
        "dataRho = npzread(\"../data/rho-meson_testproblem.npz\", [\"A\", \"x\", \"b_avg\"]) \n",
        "probRho = KLLSData(dataRho[\"A\"], dataRho[\"b_avg\"], name=\"Rho-meson\")"
      ],
      "id": "b9397e15",
      "execution_count": null,
      "outputs": []
    },
    {
      "cell_type": "markdown",
      "metadata": {},
      "source": [
        "Check normalization:"
      ],
      "id": "ed9b04ad"
    },
    {
      "cell_type": "code",
      "metadata": {},
      "source": [
        "sum(dataRho[\"x\"])"
      ],
      "id": "785fa3dc",
      "execution_count": null,
      "outputs": []
    },
    {
      "cell_type": "markdown",
      "metadata": {},
      "source": [
        "#### Synthetic UEG\n"
      ],
      "id": "7665c284"
    },
    {
      "cell_type": "code",
      "metadata": {},
      "source": [
        "#| output: true\n",
        "dataUEG = npzread(\"../data/synthetic-UEG_testproblem.npz\", [\"A\", \"x\", \"b_avg\", \"mu\"]) \n",
        "probUEG = KLLSData(dataUEG[\"A\"], dataUEG[\"b_avg\"], name=\"UEG\")"
      ],
      "id": "9f625b4f",
      "execution_count": null,
      "outputs": []
    },
    {
      "cell_type": "markdown",
      "metadata": {},
      "source": [
        "Check normalization:"
      ],
      "id": "dc8167e0"
    },
    {
      "cell_type": "code",
      "metadata": {},
      "source": [
        "sum(dataUEG[\"x\"])"
      ],
      "id": "6a3fc719",
      "execution_count": null,
      "outputs": []
    },
    {
      "cell_type": "markdown",
      "metadata": {},
      "source": [
        "#### PhysicsData:"
      ],
      "id": "19da0525"
    },
    {
      "cell_type": "code",
      "metadata": {},
      "source": [
        "#| output: true\n",
        "dataPhy = npzread(\"../data/PhysicsData.npz\", [\"A\", \"b\", \"x0\"])\n",
        "probPhy = KLLSData(dataPhy[\"A\"], dataPhy[\"b\"], name=\"Physics\")"
      ],
      "id": "7fbd12db",
      "execution_count": null,
      "outputs": []
    },
    {
      "cell_type": "markdown",
      "metadata": {},
      "source": [
        "Check normalization:"
      ],
      "id": "f12fd4ff"
    },
    {
      "cell_type": "code",
      "metadata": {},
      "source": [
        "sum(dataPhy[\"x0\"])"
      ],
      "id": "ffa94c98",
      "execution_count": null,
      "outputs": []
    },
    {
      "cell_type": "markdown",
      "metadata": {},
      "source": [
        "#### Synthetic data:\n",
        "\n",
        "For this dataset, the ground truth seems to be named `x` instead of `x0`, as in the other data sets. We'll rename it for consistency:"
      ],
      "id": "e71b049d"
    },
    {
      "cell_type": "code",
      "metadata": {},
      "source": [
        "#| output: true\n",
        "dataSyn = npzread(\"../data/synthetic_data.npz\", [\"A\", \"b\", \"x\"])\n",
        "dataSyn[\"x0\"] = dataSyn[\"x\"] # convenient\n",
        "probSyn = KLLSData(dataSyn[\"A\"], dataSyn[\"b\"], name=\"Synthetic Data\")"
      ],
      "id": "5cbac1f9",
      "execution_count": null,
      "outputs": []
    },
    {
      "cell_type": "markdown",
      "metadata": {},
      "source": [
        "Check normalization:"
      ],
      "id": "509be018"
    },
    {
      "cell_type": "code",
      "metadata": {},
      "source": [
        "sum(dataSyn[\"x0\"])"
      ],
      "id": "880a73cd",
      "execution_count": null,
      "outputs": []
    },
    {
      "cell_type": "markdown",
      "metadata": {},
      "source": [
        ":::{.callout-important title=\"Normalization\"}\n",
        "The synthetic data doesn't appear to be normalized. As agreed, we normalize the data such that the first element of the right-hand side vector $b$ is 1:\n"
      ],
      "id": "c16cae7c"
    },
    {
      "cell_type": "code",
      "metadata": {},
      "source": [
        "#| output: false\n",
        "probSyn.b ./= probSyn.b[1]\n",
        "probSyn.A ./= probSyn.b[1]\n",
        "dataSyn[\"x0\"] ./= probSyn.b[1]"
      ],
      "id": "6a413835",
      "execution_count": null,
      "outputs": []
    },
    {
      "cell_type": "markdown",
      "metadata": {},
      "source": [
        "Questions:\n",
        "\n",
        "1. Note that this normalization still doesn't put `x0` into the simplex:"
      ],
      "id": "d22f3c95"
    },
    {
      "cell_type": "code",
      "metadata": {},
      "source": [
        "sum(dataSyn[\"x0\"])"
      ],
      "id": "6e460d02",
      "execution_count": null,
      "outputs": []
    },
    {
      "cell_type": "markdown",
      "metadata": {},
      "source": [
        "2. Why is `x0` for this test set stored as single precision float? (See \"f\" in line above.)\n",
        ":::\n",
        "\n",
        "### Visualizing signals\n",
        "\n",
        "Here are the signals to be recovered:"
      ],
      "id": "1ff8be34"
    },
    {
      "cell_type": "code",
      "metadata": {},
      "source": [
        "#| echo: false\n",
        "plot(title=\"Signals to be recovered\",\n",
        "  plot(dataPhy[\"x0\"], label=\"Physics\"),\n",
        "  plot(dataSyn[\"x0\"], label=\"Synthetic\"),\n",
        "  plot(dataRho[\"x\"], label=\"Rho-meson\"),\n",
        "  plot(dataUEG[\"x\"], label=\"Synthetic UEG\"),\n",
        ")"
      ],
      "id": "b0dcc555",
      "execution_count": null,
      "outputs": []
    },
    {
      "cell_type": "markdown",
      "metadata": {},
      "source": [
        "### Recovery\n",
        "\n",
        "Recover the signals as the solution of the KL-regularized least squares problem\n",
        "$$\n",
        "\\min_p \\frac{1}{2} \\|Ap - b\\|^2 + \\lambda \\sum_{i=1}^n p_i \\log(p_i)\n",
        "$$\n"
      ],
      "id": "609e3937"
    },
    {
      "cell_type": "code",
      "metadata": {},
      "source": [
        "#| output: false\n",
        "#| code-fold: true\n",
        "#| code-summary: \"Implement test functions\"\n",
        "logrange(start, stop, length) = exp10.(range(start, stop=stop, length=length))\n",
        "solve_range(prob, λs) = map(λs) do λ\n",
        "        prob.λ = λ\n",
        "        p, y, stats = solve!(prob)\n",
        "        (λ=λ, p=p, iters=stats.iter, solve_time=stats.elapsed_time)\n",
        "end\n",
        "function plot_results(stats, x0; title=\"Recovered distributions\")\n",
        "    lab = hcat([@sprintf(\"λ = %6.0e\", λ) for λ in getfield.(stats, :λ)]...)\n",
        "    default(lw=2, title=title)\n",
        "    plot(getfield.(stats, :p), label=lab)\n",
        "    plot!(x0, label=\"ground truth\")\n",
        "end"
      ],
      "id": "56826a16",
      "execution_count": null,
      "outputs": []
    },
    {
      "cell_type": "markdown",
      "metadata": {},
      "source": [
        "#### Physics data\n",
        "\n",
        "Solve the problem for a range of logarithmically spaced regularization parameters $\\lambda$ between $10^{-16}$ and $10^{-5}$.\n"
      ],
      "id": "0267cbbb"
    },
    {
      "cell_type": "code",
      "metadata": {},
      "source": [
        "statsPhy = solve_range(probPhy, logrange(-16, -5, 3))\n",
        "plot_results(statsPhy, dataPhy[\"x0\"])"
      ],
      "id": "b1802ea5",
      "execution_count": null,
      "outputs": []
    },
    {
      "cell_type": "markdown",
      "metadata": {},
      "source": [
        "Report results for smallest value of $\\lambda$:"
      ],
      "id": "acbc953e"
    },
    {
      "cell_type": "code",
      "metadata": {},
      "source": [
        "#| output: false\n",
        "#| code-fold: true\n",
        "#| code-summary: \"Implement report function\" \n",
        "function report_errors(stats, data)\n",
        "  @unpack A, b, x0 = data\n",
        "  p = stats.p\n",
        "  m, n = size(A)\n",
        "  @printf(\"%20s: %11.2e\\n\", \"rms(p-x0)\", norm(p - x0)/√n)\n",
        "  @printf(\"%20s: %11.2e\\n\", \"rms(Ap-b)\", norm(A*p - b)/√m)\n",
        "  @printf(\"%20s: %11.2e\\n\", \"rms(Ax0-b)\", norm(A*x0 - b)/√m)\n",
        "  @printf(\"%20s: %11f\\n\", \"Solve time (sec)\", stats.solve_time)\n",
        "end"
      ],
      "id": "dca39c56",
      "execution_count": null,
      "outputs": []
    },
    {
      "cell_type": "code",
      "metadata": {},
      "source": [
        "report_errors(statsPhy[1], dataPhy)"
      ],
      "id": "eeb1344e",
      "execution_count": null,
      "outputs": []
    },
    {
      "cell_type": "markdown",
      "metadata": {},
      "source": [
        "#### Synthetic data\n",
        "\n",
        "Here we try to recover the solution from the synthetic data set. But as we see here, we get garbage:\n"
      ],
      "id": "54c1aa63"
    },
    {
      "cell_type": "code",
      "metadata": {},
      "source": [
        "p, y, statsSyn = solve!(probSyn)\n",
        "plot([p, dataSyn[\"x0\"]], label=[\"Recovered\" \"Ground truth\"])"
      ],
      "id": "8f05342e",
      "execution_count": null,
      "outputs": []
    },
    {
      "cell_type": "markdown",
      "metadata": {},
      "source": [
        ":::{.callout-important}\n",
        "It seems that the vector `b` in that data set isn't correct. What is `b` the meaning of `b` in this data set?\n",
        ":::\n",
        "\n",
        "As a test, we construct `b` from the ground truth (forcibly normalized) `x0`:"
      ],
      "id": "e9ceee1e"
    },
    {
      "cell_type": "code",
      "metadata": {},
      "source": [
        "let\n",
        "  @unpack A, x0 = dataSyn\n",
        "  x0 = x0/sum(x0)\n",
        "  b = A*x0\n",
        "  p, y, stats = solve!(KLLSData(A, b))\n",
        "  plot([p, x0], label=[\"Recovered\" \"Ground truth\"])\n",
        "end"
      ],
      "id": "78b7bc16",
      "execution_count": null,
      "outputs": []
    },
    {
      "cell_type": "markdown",
      "metadata": {},
      "source": [
        "### UEG\n"
      ],
      "id": "a956604f"
    },
    {
      "cell_type": "code",
      "metadata": {},
      "source": [
        "let\n",
        "  probUEG.λ = 1e-6\n",
        "  p, y, stats = solve!(probUEG)\n",
        "  plot([p, dataUEG[\"x\"]], label=[\"Recovered\" \"Ground truth\"])\n",
        "end"
      ],
      "id": "00b9a61b",
      "execution_count": null,
      "outputs": []
    }
  ],
  "metadata": {
    "kernelspec": {
      "name": "julia-1.10",
      "language": "julia",
      "display_name": "Julia 1.10.2"
    }
  },
  "nbformat": 4,
  "nbformat_minor": 5
}